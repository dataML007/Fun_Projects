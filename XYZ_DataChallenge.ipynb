{
 "cells": [
  {
   "cell_type": "code",
   "execution_count": 149,
   "metadata": {},
   "outputs": [],
   "source": [
    "### Import Required Packages\n",
    "\n",
    "import pandas as pd\n",
    "import numpy as np\n",
    "import matplotlib.pyplot as plt\n",
    "import seaborn as sns\n",
    "\n",
    "from sklearn import metrics\n",
    "from sklearn.neighbors import KNeighborsClassifier\n",
    "from sklearn.linear_model import LogisticRegression\n",
    "from sklearn.model_selection import train_test_split\n",
    "from pandas import read_csv\n",
    "from pandas.plotting import scatter_matrix\n",
    "from matplotlib import pyplot\n",
    "from sklearn.model_selection import KFold\n",
    "from sklearn.model_selection import cross_val_score\n",
    "from sklearn.metrics import classification_report\n",
    "from sklearn.metrics import confusion_matrix\n",
    "from sklearn.metrics import accuracy_score\n",
    "from sklearn.tree import DecisionTreeClassifier\n",
    "from sklearn.discriminant_analysis import LinearDiscriminantAnalysis\n",
    "from sklearn.naive_bayes import GaussianNB\n",
    "from sklearn.svm import SVC\n",
    "from sklearn.model_selection import GridSearchCV\n",
    "from sklearn.ensemble import RandomForestClassifier\n",
    "from sklearn.ensemble import ExtraTreesClassifier\n",
    "from sklearn.ensemble import AdaBoostClassifier\n",
    "from sklearn.ensemble import GradientBoostingClassifier"
   ]
  },
  {
   "cell_type": "code",
   "execution_count": 2,
   "metadata": {},
   "outputs": [],
   "source": [
    "pd.set_option('max_columns', 17, 'max_rows', 20)"
   ]
  },
  {
   "cell_type": "markdown",
   "metadata": {},
   "source": [
    "Read CSV File - \"Training_Data_C.csv\""
   ]
  },
  {
   "cell_type": "code",
   "execution_count": 3,
   "metadata": {},
   "outputs": [
    {
     "data": {
      "text/html": [
       "<div>\n",
       "<style scoped>\n",
       "    .dataframe tbody tr th:only-of-type {\n",
       "        vertical-align: middle;\n",
       "    }\n",
       "\n",
       "    .dataframe tbody tr th {\n",
       "        vertical-align: top;\n",
       "    }\n",
       "\n",
       "    .dataframe thead th {\n",
       "        text-align: right;\n",
       "    }\n",
       "</style>\n",
       "<table border=\"1\" class=\"dataframe\">\n",
       "  <thead>\n",
       "    <tr style=\"text-align: right;\">\n",
       "      <th></th>\n",
       "      <th>ID</th>\n",
       "      <th>Rate</th>\n",
       "      <th>Level_1</th>\n",
       "      <th>Region</th>\n",
       "      <th>Level_2</th>\n",
       "      <th>Criteria_1</th>\n",
       "      <th>Criteria_2</th>\n",
       "      <th>Type_1</th>\n",
       "      <th>Depth_1</th>\n",
       "      <th>Depth_2</th>\n",
       "      <th>Depth_3</th>\n",
       "      <th>Length_1</th>\n",
       "      <th>Radius_1</th>\n",
       "      <th>Ratio_1</th>\n",
       "      <th>Length_2</th>\n",
       "      <th>Level_3</th>\n",
       "      <th>Job_Status</th>\n",
       "    </tr>\n",
       "  </thead>\n",
       "  <tbody>\n",
       "    <tr>\n",
       "      <th>0</th>\n",
       "      <td>0</td>\n",
       "      <td>170.69</td>\n",
       "      <td>0</td>\n",
       "      <td>6</td>\n",
       "      <td>2</td>\n",
       "      <td>1</td>\n",
       "      <td>0</td>\n",
       "      <td>0</td>\n",
       "      <td>10500</td>\n",
       "      <td>9375</td>\n",
       "      <td>5246</td>\n",
       "      <td>10</td>\n",
       "      <td>99</td>\n",
       "      <td>205.7</td>\n",
       "      <td>17.6</td>\n",
       "      <td>11</td>\n",
       "      <td>SomeObjectivesComplete</td>\n",
       "    </tr>\n",
       "    <tr>\n",
       "      <th>1</th>\n",
       "      <td>1</td>\n",
       "      <td>298.96</td>\n",
       "      <td>2</td>\n",
       "      <td>6</td>\n",
       "      <td>1</td>\n",
       "      <td>1</td>\n",
       "      <td>0</td>\n",
       "      <td>0</td>\n",
       "      <td>2625</td>\n",
       "      <td>6500</td>\n",
       "      <td>647</td>\n",
       "      <td>11</td>\n",
       "      <td>107</td>\n",
       "      <td>266.2</td>\n",
       "      <td>20.9</td>\n",
       "      <td>15</td>\n",
       "      <td>AllObjectivesComplete</td>\n",
       "    </tr>\n",
       "    <tr>\n",
       "      <th>2</th>\n",
       "      <td>2</td>\n",
       "      <td>155.54</td>\n",
       "      <td>2</td>\n",
       "      <td>0</td>\n",
       "      <td>0</td>\n",
       "      <td>0</td>\n",
       "      <td>0</td>\n",
       "      <td>2</td>\n",
       "      <td>10250</td>\n",
       "      <td>6125</td>\n",
       "      <td>3783</td>\n",
       "      <td>13</td>\n",
       "      <td>130</td>\n",
       "      <td>133.1</td>\n",
       "      <td>9.9</td>\n",
       "      <td>19</td>\n",
       "      <td>SomeObjectivesComplete</td>\n",
       "    </tr>\n",
       "    <tr>\n",
       "      <th>3</th>\n",
       "      <td>3</td>\n",
       "      <td>159.58</td>\n",
       "      <td>0</td>\n",
       "      <td>4</td>\n",
       "      <td>2</td>\n",
       "      <td>1</td>\n",
       "      <td>0</td>\n",
       "      <td>2</td>\n",
       "      <td>10625</td>\n",
       "      <td>5875</td>\n",
       "      <td>4407</td>\n",
       "      <td>12</td>\n",
       "      <td>109</td>\n",
       "      <td>330.0</td>\n",
       "      <td>20.9</td>\n",
       "      <td>11</td>\n",
       "      <td>SomeObjectivesComplete</td>\n",
       "    </tr>\n",
       "    <tr>\n",
       "      <th>4</th>\n",
       "      <td>4</td>\n",
       "      <td>171.70</td>\n",
       "      <td>2</td>\n",
       "      <td>1</td>\n",
       "      <td>2</td>\n",
       "      <td>1</td>\n",
       "      <td>1</td>\n",
       "      <td>2</td>\n",
       "      <td>2375</td>\n",
       "      <td>3000</td>\n",
       "      <td>645</td>\n",
       "      <td>13</td>\n",
       "      <td>72</td>\n",
       "      <td>137.5</td>\n",
       "      <td>18.7</td>\n",
       "      <td>21</td>\n",
       "      <td>AllObjectivesComplete</td>\n",
       "    </tr>\n",
       "  </tbody>\n",
       "</table>\n",
       "</div>"
      ],
      "text/plain": [
       "   ID    Rate  Level_1  Region  Level_2  Criteria_1  Criteria_2  Type_1  \\\n",
       "0   0  170.69        0       6        2           1           0       0   \n",
       "1   1  298.96        2       6        1           1           0       0   \n",
       "2   2  155.54        2       0        0           0           0       2   \n",
       "3   3  159.58        0       4        2           1           0       2   \n",
       "4   4  171.70        2       1        2           1           1       2   \n",
       "\n",
       "   Depth_1  Depth_2  Depth_3  Length_1  Radius_1  Ratio_1  Length_2  Level_3  \\\n",
       "0    10500     9375     5246        10        99    205.7      17.6       11   \n",
       "1     2625     6500      647        11       107    266.2      20.9       15   \n",
       "2    10250     6125     3783        13       130    133.1       9.9       19   \n",
       "3    10625     5875     4407        12       109    330.0      20.9       11   \n",
       "4     2375     3000      645        13        72    137.5      18.7       21   \n",
       "\n",
       "               Job_Status  \n",
       "0  SomeObjectivesComplete  \n",
       "1   AllObjectivesComplete  \n",
       "2  SomeObjectivesComplete  \n",
       "3  SomeObjectivesComplete  \n",
       "4   AllObjectivesComplete  "
      ]
     },
     "execution_count": 3,
     "metadata": {},
     "output_type": "execute_result"
    }
   ],
   "source": [
    "df = pd.read_csv('data/Training_Data_C.csv')\n",
    "df.head()"
   ]
  },
  {
   "cell_type": "code",
   "execution_count": 5,
   "metadata": {},
   "outputs": [
    {
     "data": {
      "text/plain": [
       "Index(['ID', 'Rate', 'Level_1', 'Region', 'Level_2', 'Criteria_1',\n",
       "       'Criteria_2', 'Type_1', 'Depth_1', 'Depth_2', 'Depth_3', 'Length_1',\n",
       "       'Radius_1', 'Ratio_1', 'Length_2', 'Level_3', 'Job_Status'],\n",
       "      dtype='object')"
      ]
     },
     "execution_count": 5,
     "metadata": {},
     "output_type": "execute_result"
    }
   ],
   "source": [
    "#Get Column Names & Indexes\n",
    "columns = df.columns\n",
    "index = df.index\n",
    "columns"
   ]
  },
  {
   "cell_type": "code",
   "execution_count": 6,
   "metadata": {},
   "outputs": [
    {
     "data": {
      "text/plain": [
       "RangeIndex(start=0, stop=6000, step=1)"
      ]
     },
     "execution_count": 6,
     "metadata": {},
     "output_type": "execute_result"
    }
   ],
   "source": [
    "index"
   ]
  },
  {
   "cell_type": "code",
   "execution_count": 7,
   "metadata": {},
   "outputs": [
    {
     "data": {
      "text/plain": [
       "ID              int64\n",
       "Rate          float64\n",
       "Level_1         int64\n",
       "Region          int64\n",
       "Level_2         int64\n",
       "Criteria_1      int64\n",
       "Criteria_2      int64\n",
       "Type_1          int64\n",
       "Depth_1         int64\n",
       "Depth_2         int64\n",
       "Depth_3         int64\n",
       "Length_1        int64\n",
       "Radius_1        int64\n",
       "Ratio_1       float64\n",
       "Length_2      float64\n",
       "Level_3         int64\n",
       "Job_Status     object\n",
       "dtype: object"
      ]
     },
     "execution_count": 7,
     "metadata": {},
     "output_type": "execute_result"
    }
   ],
   "source": [
    "#Get Datatypes\n",
    "df.dtypes"
   ]
  },
  {
   "cell_type": "code",
   "execution_count": 8,
   "metadata": {},
   "outputs": [
    {
     "data": {
      "text/html": [
       "<div>\n",
       "<style scoped>\n",
       "    .dataframe tbody tr th:only-of-type {\n",
       "        vertical-align: middle;\n",
       "    }\n",
       "\n",
       "    .dataframe tbody tr th {\n",
       "        vertical-align: top;\n",
       "    }\n",
       "\n",
       "    .dataframe thead th {\n",
       "        text-align: right;\n",
       "    }\n",
       "</style>\n",
       "<table border=\"1\" class=\"dataframe\">\n",
       "  <thead>\n",
       "    <tr style=\"text-align: right;\">\n",
       "      <th></th>\n",
       "      <th>ID</th>\n",
       "      <th>Rate</th>\n",
       "      <th>Level_1</th>\n",
       "      <th>Region</th>\n",
       "      <th>Level_2</th>\n",
       "      <th>Criteria_1</th>\n",
       "      <th>Criteria_2</th>\n",
       "      <th>Type_1</th>\n",
       "      <th>Depth_1</th>\n",
       "      <th>Depth_2</th>\n",
       "      <th>Depth_3</th>\n",
       "      <th>Length_1</th>\n",
       "      <th>Radius_1</th>\n",
       "      <th>Ratio_1</th>\n",
       "      <th>Length_2</th>\n",
       "      <th>Level_3</th>\n",
       "    </tr>\n",
       "  </thead>\n",
       "  <tbody>\n",
       "    <tr>\n",
       "      <th>count</th>\n",
       "      <td>6000.000000</td>\n",
       "      <td>6000.000000</td>\n",
       "      <td>6000.000000</td>\n",
       "      <td>6000.000000</td>\n",
       "      <td>6000.000000</td>\n",
       "      <td>6000.000000</td>\n",
       "      <td>6000.000000</td>\n",
       "      <td>6000.000000</td>\n",
       "      <td>6000.000000</td>\n",
       "      <td>6000.000000</td>\n",
       "      <td>6000.000000</td>\n",
       "      <td>6000.000000</td>\n",
       "      <td>6000.000000</td>\n",
       "      <td>6000.000000</td>\n",
       "      <td>6000.000000</td>\n",
       "      <td>6000.000000</td>\n",
       "    </tr>\n",
       "    <tr>\n",
       "      <th>mean</th>\n",
       "      <td>2999.500000</td>\n",
       "      <td>227.716620</td>\n",
       "      <td>1.008667</td>\n",
       "      <td>3.530833</td>\n",
       "      <td>0.989000</td>\n",
       "      <td>0.495000</td>\n",
       "      <td>0.494500</td>\n",
       "      <td>1.013333</td>\n",
       "      <td>6256.895833</td>\n",
       "      <td>6247.833333</td>\n",
       "      <td>3109.427333</td>\n",
       "      <td>11.995500</td>\n",
       "      <td>94.767000</td>\n",
       "      <td>219.597400</td>\n",
       "      <td>15.914433</td>\n",
       "      <td>12.531667</td>\n",
       "    </tr>\n",
       "    <tr>\n",
       "      <th>std</th>\n",
       "      <td>1732.195139</td>\n",
       "      <td>44.078009</td>\n",
       "      <td>0.815702</td>\n",
       "      <td>2.294833</td>\n",
       "      <td>0.816899</td>\n",
       "      <td>0.500017</td>\n",
       "      <td>0.500011</td>\n",
       "      <td>0.809690</td>\n",
       "      <td>3601.737493</td>\n",
       "      <td>3600.837585</td>\n",
       "      <td>2746.128308</td>\n",
       "      <td>1.399454</td>\n",
       "      <td>20.365285</td>\n",
       "      <td>64.080021</td>\n",
       "      <td>3.797248</td>\n",
       "      <td>7.524367</td>\n",
       "    </tr>\n",
       "    <tr>\n",
       "      <th>min</th>\n",
       "      <td>0.000000</td>\n",
       "      <td>151.500000</td>\n",
       "      <td>0.000000</td>\n",
       "      <td>0.000000</td>\n",
       "      <td>0.000000</td>\n",
       "      <td>0.000000</td>\n",
       "      <td>0.000000</td>\n",
       "      <td>0.000000</td>\n",
       "      <td>125.000000</td>\n",
       "      <td>125.000000</td>\n",
       "      <td>1.000000</td>\n",
       "      <td>10.000000</td>\n",
       "      <td>60.000000</td>\n",
       "      <td>110.000000</td>\n",
       "      <td>9.900000</td>\n",
       "      <td>0.000000</td>\n",
       "    </tr>\n",
       "    <tr>\n",
       "      <th>25%</th>\n",
       "      <td>1499.750000</td>\n",
       "      <td>188.870000</td>\n",
       "      <td>0.000000</td>\n",
       "      <td>2.000000</td>\n",
       "      <td>0.000000</td>\n",
       "      <td>0.000000</td>\n",
       "      <td>0.000000</td>\n",
       "      <td>0.000000</td>\n",
       "      <td>3125.000000</td>\n",
       "      <td>3125.000000</td>\n",
       "      <td>863.000000</td>\n",
       "      <td>11.000000</td>\n",
       "      <td>77.000000</td>\n",
       "      <td>162.800000</td>\n",
       "      <td>12.100000</td>\n",
       "      <td>6.000000</td>\n",
       "    </tr>\n",
       "    <tr>\n",
       "      <th>50%</th>\n",
       "      <td>2999.500000</td>\n",
       "      <td>228.260000</td>\n",
       "      <td>1.000000</td>\n",
       "      <td>4.000000</td>\n",
       "      <td>1.000000</td>\n",
       "      <td>0.000000</td>\n",
       "      <td>0.000000</td>\n",
       "      <td>1.000000</td>\n",
       "      <td>6125.000000</td>\n",
       "      <td>6250.000000</td>\n",
       "      <td>2313.500000</td>\n",
       "      <td>12.000000</td>\n",
       "      <td>95.000000</td>\n",
       "      <td>218.900000</td>\n",
       "      <td>15.400000</td>\n",
       "      <td>13.000000</td>\n",
       "    </tr>\n",
       "    <tr>\n",
       "      <th>75%</th>\n",
       "      <td>4499.250000</td>\n",
       "      <td>264.872500</td>\n",
       "      <td>2.000000</td>\n",
       "      <td>6.000000</td>\n",
       "      <td>2.000000</td>\n",
       "      <td>1.000000</td>\n",
       "      <td>1.000000</td>\n",
       "      <td>2.000000</td>\n",
       "      <td>9375.000000</td>\n",
       "      <td>9375.000000</td>\n",
       "      <td>4755.000000</td>\n",
       "      <td>13.000000</td>\n",
       "      <td>112.000000</td>\n",
       "      <td>276.100000</td>\n",
       "      <td>18.700000</td>\n",
       "      <td>19.000000</td>\n",
       "    </tr>\n",
       "    <tr>\n",
       "      <th>max</th>\n",
       "      <td>5999.000000</td>\n",
       "      <td>303.000000</td>\n",
       "      <td>2.000000</td>\n",
       "      <td>7.000000</td>\n",
       "      <td>2.000000</td>\n",
       "      <td>1.000000</td>\n",
       "      <td>1.000000</td>\n",
       "      <td>2.000000</td>\n",
       "      <td>12500.000000</td>\n",
       "      <td>12500.000000</td>\n",
       "      <td>12343.000000</td>\n",
       "      <td>14.000000</td>\n",
       "      <td>130.000000</td>\n",
       "      <td>330.000000</td>\n",
       "      <td>22.000000</td>\n",
       "      <td>25.000000</td>\n",
       "    </tr>\n",
       "  </tbody>\n",
       "</table>\n",
       "</div>"
      ],
      "text/plain": [
       "                ID         Rate      Level_1       Region      Level_2  \\\n",
       "count  6000.000000  6000.000000  6000.000000  6000.000000  6000.000000   \n",
       "mean   2999.500000   227.716620     1.008667     3.530833     0.989000   \n",
       "std    1732.195139    44.078009     0.815702     2.294833     0.816899   \n",
       "min       0.000000   151.500000     0.000000     0.000000     0.000000   \n",
       "25%    1499.750000   188.870000     0.000000     2.000000     0.000000   \n",
       "50%    2999.500000   228.260000     1.000000     4.000000     1.000000   \n",
       "75%    4499.250000   264.872500     2.000000     6.000000     2.000000   \n",
       "max    5999.000000   303.000000     2.000000     7.000000     2.000000   \n",
       "\n",
       "        Criteria_1   Criteria_2       Type_1       Depth_1       Depth_2  \\\n",
       "count  6000.000000  6000.000000  6000.000000   6000.000000   6000.000000   \n",
       "mean      0.495000     0.494500     1.013333   6256.895833   6247.833333   \n",
       "std       0.500017     0.500011     0.809690   3601.737493   3600.837585   \n",
       "min       0.000000     0.000000     0.000000    125.000000    125.000000   \n",
       "25%       0.000000     0.000000     0.000000   3125.000000   3125.000000   \n",
       "50%       0.000000     0.000000     1.000000   6125.000000   6250.000000   \n",
       "75%       1.000000     1.000000     2.000000   9375.000000   9375.000000   \n",
       "max       1.000000     1.000000     2.000000  12500.000000  12500.000000   \n",
       "\n",
       "            Depth_3     Length_1     Radius_1      Ratio_1     Length_2  \\\n",
       "count   6000.000000  6000.000000  6000.000000  6000.000000  6000.000000   \n",
       "mean    3109.427333    11.995500    94.767000   219.597400    15.914433   \n",
       "std     2746.128308     1.399454    20.365285    64.080021     3.797248   \n",
       "min        1.000000    10.000000    60.000000   110.000000     9.900000   \n",
       "25%      863.000000    11.000000    77.000000   162.800000    12.100000   \n",
       "50%     2313.500000    12.000000    95.000000   218.900000    15.400000   \n",
       "75%     4755.000000    13.000000   112.000000   276.100000    18.700000   \n",
       "max    12343.000000    14.000000   130.000000   330.000000    22.000000   \n",
       "\n",
       "           Level_3  \n",
       "count  6000.000000  \n",
       "mean     12.531667  \n",
       "std       7.524367  \n",
       "min       0.000000  \n",
       "25%       6.000000  \n",
       "50%      13.000000  \n",
       "75%      19.000000  \n",
       "max      25.000000  "
      ]
     },
     "execution_count": 8,
     "metadata": {},
     "output_type": "execute_result"
    }
   ],
   "source": [
    "df.describe()"
   ]
  },
  {
   "cell_type": "code",
   "execution_count": 9,
   "metadata": {},
   "outputs": [
    {
     "data": {
      "text/plain": [
       "0"
      ]
     },
     "execution_count": 9,
     "metadata": {},
     "output_type": "execute_result"
    }
   ],
   "source": [
    "#Check for any null values in the dataset. \n",
    "df.isnull().sum().sum()"
   ]
  },
  {
   "cell_type": "markdown",
   "metadata": {},
   "source": [
    "NO NULL VALUES IN THE DATASET"
   ]
  },
  {
   "cell_type": "code",
   "execution_count": 13,
   "metadata": {},
   "outputs": [],
   "source": [
    "#Round off Length_2 to its nearest round rumner\n",
    "df['Length_2'] = df['Length_2'].round()"
   ]
  },
  {
   "cell_type": "code",
   "execution_count": 14,
   "metadata": {},
   "outputs": [],
   "source": [
    "#Identified a few columns were assigned as integers, but I believe they are \"Categories\"\n",
    "#So converting them to Categories\n",
    "for col in ['Level_1', 'Region', 'Level_2', 'Criteria_1','Criteria_2','Type_1','Depth_1',\n",
    "            'Depth_2','Length_1','Level_3','Length_2','Job_Status']:\n",
    "    df[col] = df[col].astype('category')"
   ]
  },
  {
   "cell_type": "code",
   "execution_count": 15,
   "metadata": {},
   "outputs": [
    {
     "data": {
      "text/html": [
       "<div>\n",
       "<style scoped>\n",
       "    .dataframe tbody tr th:only-of-type {\n",
       "        vertical-align: middle;\n",
       "    }\n",
       "\n",
       "    .dataframe tbody tr th {\n",
       "        vertical-align: top;\n",
       "    }\n",
       "\n",
       "    .dataframe thead th {\n",
       "        text-align: right;\n",
       "    }\n",
       "</style>\n",
       "<table border=\"1\" class=\"dataframe\">\n",
       "  <thead>\n",
       "    <tr style=\"text-align: right;\">\n",
       "      <th></th>\n",
       "      <th>count</th>\n",
       "      <th>mean</th>\n",
       "      <th>std</th>\n",
       "      <th>min</th>\n",
       "      <th>25%</th>\n",
       "      <th>50%</th>\n",
       "      <th>75%</th>\n",
       "      <th>max</th>\n",
       "    </tr>\n",
       "  </thead>\n",
       "  <tbody>\n",
       "    <tr>\n",
       "      <th>ID</th>\n",
       "      <td>6000.0</td>\n",
       "      <td>2999.500000</td>\n",
       "      <td>1732.195139</td>\n",
       "      <td>0.0</td>\n",
       "      <td>1499.75</td>\n",
       "      <td>2999.50</td>\n",
       "      <td>4499.2500</td>\n",
       "      <td>5999.0</td>\n",
       "    </tr>\n",
       "    <tr>\n",
       "      <th>Rate</th>\n",
       "      <td>6000.0</td>\n",
       "      <td>227.716620</td>\n",
       "      <td>44.078009</td>\n",
       "      <td>151.5</td>\n",
       "      <td>188.87</td>\n",
       "      <td>228.26</td>\n",
       "      <td>264.8725</td>\n",
       "      <td>303.0</td>\n",
       "    </tr>\n",
       "    <tr>\n",
       "      <th>Depth_3</th>\n",
       "      <td>6000.0</td>\n",
       "      <td>3109.427333</td>\n",
       "      <td>2746.128308</td>\n",
       "      <td>1.0</td>\n",
       "      <td>863.00</td>\n",
       "      <td>2313.50</td>\n",
       "      <td>4755.0000</td>\n",
       "      <td>12343.0</td>\n",
       "    </tr>\n",
       "    <tr>\n",
       "      <th>Radius_1</th>\n",
       "      <td>6000.0</td>\n",
       "      <td>94.767000</td>\n",
       "      <td>20.365285</td>\n",
       "      <td>60.0</td>\n",
       "      <td>77.00</td>\n",
       "      <td>95.00</td>\n",
       "      <td>112.0000</td>\n",
       "      <td>130.0</td>\n",
       "    </tr>\n",
       "    <tr>\n",
       "      <th>Ratio_1</th>\n",
       "      <td>6000.0</td>\n",
       "      <td>219.597400</td>\n",
       "      <td>64.080021</td>\n",
       "      <td>110.0</td>\n",
       "      <td>162.80</td>\n",
       "      <td>218.90</td>\n",
       "      <td>276.1000</td>\n",
       "      <td>330.0</td>\n",
       "    </tr>\n",
       "  </tbody>\n",
       "</table>\n",
       "</div>"
      ],
      "text/plain": [
       "           count         mean          std    min      25%      50%  \\\n",
       "ID        6000.0  2999.500000  1732.195139    0.0  1499.75  2999.50   \n",
       "Rate      6000.0   227.716620    44.078009  151.5   188.87   228.26   \n",
       "Depth_3   6000.0  3109.427333  2746.128308    1.0   863.00  2313.50   \n",
       "Radius_1  6000.0    94.767000    20.365285   60.0    77.00    95.00   \n",
       "Ratio_1   6000.0   219.597400    64.080021  110.0   162.80   218.90   \n",
       "\n",
       "                75%      max  \n",
       "ID        4499.2500   5999.0  \n",
       "Rate       264.8725    303.0  \n",
       "Depth_3   4755.0000  12343.0  \n",
       "Radius_1   112.0000    130.0  \n",
       "Ratio_1    276.1000    330.0  "
      ]
     },
     "metadata": {},
     "output_type": "display_data"
    }
   ],
   "source": [
    "with pd.option_context('display.max_rows', 10):\n",
    "    display(df.describe(include=[np.number]).T)"
   ]
  },
  {
   "cell_type": "code",
   "execution_count": 17,
   "metadata": {},
   "outputs": [
    {
     "data": {
      "text/plain": [
       "6000"
      ]
     },
     "execution_count": 17,
     "metadata": {},
     "output_type": "execute_result"
    }
   ],
   "source": [
    "#Check if ID is a unique field. If so, drop it!\n",
    "\n",
    "df['ID'].nunique()"
   ]
  },
  {
   "cell_type": "code",
   "execution_count": 18,
   "metadata": {},
   "outputs": [],
   "source": [
    "df.drop('ID', axis=1, inplace=True)"
   ]
  },
  {
   "cell_type": "code",
   "execution_count": 16,
   "metadata": {},
   "outputs": [
    {
     "data": {
      "text/html": [
       "<div>\n",
       "<style scoped>\n",
       "    .dataframe tbody tr th:only-of-type {\n",
       "        vertical-align: middle;\n",
       "    }\n",
       "\n",
       "    .dataframe tbody tr th {\n",
       "        vertical-align: top;\n",
       "    }\n",
       "\n",
       "    .dataframe thead th {\n",
       "        text-align: right;\n",
       "    }\n",
       "</style>\n",
       "<table border=\"1\" class=\"dataframe\">\n",
       "  <thead>\n",
       "    <tr style=\"text-align: right;\">\n",
       "      <th></th>\n",
       "      <th>count</th>\n",
       "      <th>unique</th>\n",
       "      <th>top</th>\n",
       "      <th>freq</th>\n",
       "    </tr>\n",
       "  </thead>\n",
       "  <tbody>\n",
       "    <tr>\n",
       "      <th>Level_1</th>\n",
       "      <td>6000</td>\n",
       "      <td>3</td>\n",
       "      <td>2</td>\n",
       "      <td>2022</td>\n",
       "    </tr>\n",
       "    <tr>\n",
       "      <th>Region</th>\n",
       "      <td>6000</td>\n",
       "      <td>8</td>\n",
       "      <td>3</td>\n",
       "      <td>786</td>\n",
       "    </tr>\n",
       "    <tr>\n",
       "      <th>Level_2</th>\n",
       "      <td>6000</td>\n",
       "      <td>3</td>\n",
       "      <td>0</td>\n",
       "      <td>2035</td>\n",
       "    </tr>\n",
       "    <tr>\n",
       "      <th>Criteria_1</th>\n",
       "      <td>6000</td>\n",
       "      <td>2</td>\n",
       "      <td>0</td>\n",
       "      <td>3030</td>\n",
       "    </tr>\n",
       "    <tr>\n",
       "      <th>Criteria_2</th>\n",
       "      <td>6000</td>\n",
       "      <td>2</td>\n",
       "      <td>0</td>\n",
       "      <td>3033</td>\n",
       "    </tr>\n",
       "    <tr>\n",
       "      <th>Type_1</th>\n",
       "      <td>6000</td>\n",
       "      <td>3</td>\n",
       "      <td>1</td>\n",
       "      <td>2066</td>\n",
       "    </tr>\n",
       "    <tr>\n",
       "      <th>Depth_1</th>\n",
       "      <td>6000</td>\n",
       "      <td>100</td>\n",
       "      <td>3625</td>\n",
       "      <td>79</td>\n",
       "    </tr>\n",
       "    <tr>\n",
       "      <th>Depth_2</th>\n",
       "      <td>6000</td>\n",
       "      <td>100</td>\n",
       "      <td>1750</td>\n",
       "      <td>79</td>\n",
       "    </tr>\n",
       "    <tr>\n",
       "      <th>Length_1</th>\n",
       "      <td>6000</td>\n",
       "      <td>5</td>\n",
       "      <td>11</td>\n",
       "      <td>1247</td>\n",
       "    </tr>\n",
       "    <tr>\n",
       "      <th>Length_2</th>\n",
       "      <td>6000</td>\n",
       "      <td>12</td>\n",
       "      <td>13</td>\n",
       "      <td>513</td>\n",
       "    </tr>\n",
       "    <tr>\n",
       "      <th>Level_3</th>\n",
       "      <td>6000</td>\n",
       "      <td>26</td>\n",
       "      <td>25</td>\n",
       "      <td>256</td>\n",
       "    </tr>\n",
       "    <tr>\n",
       "      <th>Job_Status</th>\n",
       "      <td>6000</td>\n",
       "      <td>4</td>\n",
       "      <td>SeveralObjectivesComplete</td>\n",
       "      <td>2228</td>\n",
       "    </tr>\n",
       "  </tbody>\n",
       "</table>\n",
       "</div>"
      ],
      "text/plain": [
       "           count unique                        top  freq\n",
       "Level_1     6000      3                          2  2022\n",
       "Region      6000      8                          3   786\n",
       "Level_2     6000      3                          0  2035\n",
       "Criteria_1  6000      2                          0  3030\n",
       "Criteria_2  6000      2                          0  3033\n",
       "Type_1      6000      3                          1  2066\n",
       "Depth_1     6000    100                       3625    79\n",
       "Depth_2     6000    100                       1750    79\n",
       "Length_1    6000      5                         11  1247\n",
       "Length_2    6000     12                         13   513\n",
       "Level_3     6000     26                         25   256\n",
       "Job_Status  6000      4  SeveralObjectivesComplete  2228"
      ]
     },
     "execution_count": 16,
     "metadata": {},
     "output_type": "execute_result"
    }
   ],
   "source": [
    "df.describe(include=[pd.Categorical]).T"
   ]
  },
  {
   "cell_type": "code",
   "execution_count": 19,
   "metadata": {},
   "outputs": [
    {
     "data": {
      "text/plain": [
       "SeveralObjectivesComplete    2228\n",
       "SomeObjectivesComplete       1960\n",
       "AllObjectivesComplete        1279\n",
       "NoObjectiveComplete           533\n",
       "Name: Job_Status, dtype: int64"
      ]
     },
     "execution_count": 19,
     "metadata": {},
     "output_type": "execute_result"
    }
   ],
   "source": [
    "### Get Value counts for Job_Status\n",
    "\n",
    "df['Job_Status'].value_counts()\n",
    "\n",
    "### Not a very balanced dataset at the same time, \n",
    "### unbalanced rate isn't bad. Let's not only evaluate\n",
    "### Accuracy, but also consider Precision and Recall as \n",
    "### performance metrics"
   ]
  },
  {
   "cell_type": "code",
   "execution_count": 20,
   "metadata": {},
   "outputs": [
    {
     "data": {
      "text/plain": [
       "<matplotlib.axes._subplots.AxesSubplot at 0x1e1eda50cf8>"
      ]
     },
     "execution_count": 20,
     "metadata": {},
     "output_type": "execute_result"
    },
    {
     "data": {
      "image/png": "[encoded data removed]",
      "text/plain": [
       "<Figure size 432x288 with 1 Axes>"
      ]
     },
     "metadata": {
      "needs_background": "light"
     },
     "output_type": "display_data"
    }
   ],
   "source": [
    "sns.countplot(y='Job_Status', data=df)"
   ]
  },
  {
   "cell_type": "code",
   "execution_count": 22,
   "metadata": {},
   "outputs": [
    {
     "name": "stdout",
     "output_type": "stream",
     "text": [
      "Rate(Unique values) 151\n"
     ]
    },
    {
     "data": {
      "image/png": "[encoded data removed]",
      "text/plain": [
       "<Figure size 432x288 with 1 Axes>"
      ]
     },
     "metadata": {
      "needs_background": "light"
     },
     "output_type": "display_data"
    }
   ],
   "source": [
    "#Check distribution of numeric variables\n",
    "\n",
    "sns.distplot(df['Rate'])\n",
    "print(\"Rate(Unique values)\",df['Rate'].nunique())\n",
    "\n",
    "### Looks like a Uniform distribution. Ideally prefer\n",
    "### a Gausian dist, but would leave the distribution \n",
    "### as it is and, incase if the prediction accuracy isn't\n",
    "### good enough, I would convert this into a Gaussian distribution"
   ]
  },
  {
   "cell_type": "code",
   "execution_count": 24,
   "metadata": {},
   "outputs": [
    {
     "name": "stdout",
     "output_type": "stream",
     "text": [
      "Depth3(Unique values): 4072\n"
     ]
    },
    {
     "data": {
      "image/png": "[encoded data removed]",
      "text/plain": [
       "<Figure size 432x288 with 1 Axes>"
      ]
     },
     "metadata": {
      "needs_background": "light"
     },
     "output_type": "display_data"
    }
   ],
   "source": [
    "sns.distplot(df['Depth_3'])\n",
    "print(\"Depth3(Unique values):\",df['Depth_3'].nunique())\n",
    "\n",
    "### Looks like a Right Skew Distribution. Ideally prefer\n",
    "### a Gausian dist, but would leave the distribution \n",
    "### as it is and, incase if the prediction accuracy isn't\n",
    "### good enough, I would convert this into a Gaussian distribution"
   ]
  },
  {
   "cell_type": "code",
   "execution_count": 25,
   "metadata": {},
   "outputs": [
    {
     "name": "stdout",
     "output_type": "stream",
     "text": [
      "Radius_1(Unique values): 71\n"
     ]
    },
    {
     "data": {
      "image/png": "[encoded data removed]",
      "text/plain": [
       "<Figure size 432x288 with 1 Axes>"
      ]
     },
     "metadata": {
      "needs_background": "light"
     },
     "output_type": "display_data"
    }
   ],
   "source": [
    "sns.distplot(df['Radius_1'])\n",
    "print(\"Radius_1(Unique values):\",df['Radius_1'].nunique())\n",
    "\n",
    "### Looks like a Uniform distribution. Ideally prefer\n",
    "### a Gausian dist, but would leave the distribution \n",
    "### as it is and, incase if the prediction accuracy isn't\n",
    "### good enough, I would convert this into a Gaussian distribution"
   ]
  },
  {
   "cell_type": "code",
   "execution_count": 29,
   "metadata": {},
   "outputs": [
    {
     "name": "stdout",
     "output_type": "stream",
     "text": [
      "Ratio_1(Unique values): 201\n"
     ]
    },
    {
     "data": {
      "image/png": "[encoded data removed]",
      "text/plain": [
       "<Figure size 432x288 with 1 Axes>"
      ]
     },
     "metadata": {
      "needs_background": "light"
     },
     "output_type": "display_data"
    }
   ],
   "source": [
    "sns.distplot(df['Ratio_1'])\n",
    "print(\"Ratio_1(Unique values):\",df['Ratio_1'].nunique())\n",
    "\n",
    "### Looks like a Uniform distribution. Ideally prefer\n",
    "### a Gausian dist, but would leave the distribution \n",
    "### as it is and, incase if the prediction accuracy isn't\n",
    "### good enough, I would convert this into a Gaussian distribution"
   ]
  },
  {
   "cell_type": "code",
   "execution_count": 26,
   "metadata": {},
   "outputs": [
    {
     "data": {
      "text/plain": [
       "<matplotlib.axes._subplots.AxesSubplot at 0x1e1ee1f26a0>"
      ]
     },
     "execution_count": 26,
     "metadata": {},
     "output_type": "execute_result"
    },
    {
     "data": {
      "image/png": "[encoded data removed]",
      "text/plain": [
       "<Figure size 432x288 with 1 Axes>"
      ]
     },
     "metadata": {
      "needs_background": "light"
     },
     "output_type": "display_data"
    }
   ],
   "source": [
    "sns.boxplot(y=df['Rate'])"
   ]
  },
  {
   "cell_type": "code",
   "execution_count": 27,
   "metadata": {},
   "outputs": [
    {
     "data": {
      "text/plain": [
       "<matplotlib.axes._subplots.AxesSubplot at 0x1e1eda35400>"
      ]
     },
     "execution_count": 27,
     "metadata": {},
     "output_type": "execute_result"
    },
    {
     "data": {
      "image/png": "[encoded data removed]",
      "text/plain": [
       "<Figure size 432x288 with 1 Axes>"
      ]
     },
     "metadata": {
      "needs_background": "light"
     },
     "output_type": "display_data"
    }
   ],
   "source": [
    "sns.boxplot(y=df['Depth_3'])\n",
    "\n",
    "### As expected, (Right Skewed Dist) this variable\n",
    "### has outliers. Leave as it is and, incase if the \n",
    "### prediction accuracy isn't\n",
    "### good enough, I would convert this into a Gaussian distribution"
   ]
  },
  {
   "cell_type": "code",
   "execution_count": 28,
   "metadata": {},
   "outputs": [
    {
     "data": {
      "text/plain": [
       "<matplotlib.axes._subplots.AxesSubplot at 0x1e1ee1641d0>"
      ]
     },
     "execution_count": 28,
     "metadata": {},
     "output_type": "execute_result"
    },
    {
     "data": {
      "image/png": "[encoded data removed]",
      "text/plain": [
       "<Figure size 432x288 with 1 Axes>"
      ]
     },
     "metadata": {
      "needs_background": "light"
     },
     "output_type": "display_data"
    }
   ],
   "source": [
    "sns.boxplot(y=df['Radius_1'])"
   ]
  },
  {
   "cell_type": "code",
   "execution_count": 30,
   "metadata": {},
   "outputs": [
    {
     "data": {
      "text/plain": [
       "<matplotlib.axes._subplots.AxesSubplot at 0x1e1edbe8860>"
      ]
     },
     "execution_count": 30,
     "metadata": {},
     "output_type": "execute_result"
    },
    {
     "data": {
      "image/png": "[encoded data removed]",
      "text/plain": [
       "<Figure size 432x288 with 1 Axes>"
      ]
     },
     "metadata": {
      "needs_background": "light"
     },
     "output_type": "display_data"
    }
   ],
   "source": [
    "sns.boxplot(y=df['Ratio_1'])"
   ]
  },
  {
   "cell_type": "code",
   "execution_count": 31,
   "metadata": {},
   "outputs": [
    {
     "data": {
      "text/plain": [
       "<matplotlib.axes._subplots.AxesSubplot at 0x1e1ee191d68>"
      ]
     },
     "execution_count": 31,
     "metadata": {},
     "output_type": "execute_result"
    },
    {
     "data": {
      "image/png": "[encoded data removed]",
      "text/plain": [
       "<Figure size 432x288 with 2 Axes>"
      ]
     },
     "metadata": {
      "needs_background": "light"
     },
     "output_type": "display_data"
    }
   ],
   "source": [
    "sns.heatmap(df.corr(),cmap='coolwarm',annot=True)\n",
    "\n",
    "### Correlation Plot below doenst should any correlated\n",
    "### variables. So, the numeric variables are \"independent\" \n",
    "### are independent of each other"
   ]
  },
  {
   "cell_type": "code",
   "execution_count": 32,
   "metadata": {},
   "outputs": [],
   "source": [
    "#Get the dependent variable assigned to 'y'\n",
    "\n",
    "y = df['Job_Status'] "
   ]
  },
  {
   "cell_type": "code",
   "execution_count": 35,
   "metadata": {},
   "outputs": [
    {
     "data": {
      "text/plain": [
       "(6000,)"
      ]
     },
     "execution_count": 35,
     "metadata": {},
     "output_type": "execute_result"
    }
   ],
   "source": [
    "y.shape"
   ]
  },
  {
   "cell_type": "code",
   "execution_count": 33,
   "metadata": {},
   "outputs": [],
   "source": [
    "dfbackup = df.copy()"
   ]
  },
  {
   "cell_type": "code",
   "execution_count": 34,
   "metadata": {},
   "outputs": [],
   "source": [
    "df.drop('Job_Status', axis=1, inplace=True)\n",
    "X = df"
   ]
  },
  {
   "cell_type": "code",
   "execution_count": 36,
   "metadata": {},
   "outputs": [
    {
     "data": {
      "text/plain": [
       "(6000, 15)"
      ]
     },
     "execution_count": 36,
     "metadata": {},
     "output_type": "execute_result"
    }
   ],
   "source": [
    "X.shape"
   ]
  },
  {
   "cell_type": "code",
   "execution_count": 38,
   "metadata": {},
   "outputs": [
    {
     "name": "stderr",
     "output_type": "stream",
     "text": [
      "C:\\ProgramData\\Anaconda3\\lib\\site-packages\\sklearn\\linear_model\\logistic.py:433: FutureWarning: Default solver will be changed to 'lbfgs' in 0.22. Specify a solver to silence this warning.\n",
      "  FutureWarning)\n",
      "C:\\ProgramData\\Anaconda3\\lib\\site-packages\\sklearn\\linear_model\\logistic.py:460: FutureWarning: Default multi_class will be changed to 'auto' in 0.22. Specify the multi_class option to silence this warning.\n",
      "  \"this warning.\", FutureWarning)\n"
     ]
    },
    {
     "name": "stdout",
     "output_type": "stream",
     "text": [
      "Accuracy Score: 0.7861666666666667\n"
     ]
    }
   ],
   "source": [
    "### Create a BASELINE Classifier (with no Cross Validation)\n",
    "### I chose Logistic Refression as my baseline classifier in this case\n",
    "\n",
    "logreg = LogisticRegression()\n",
    "logreg.fit(X, y)\n",
    "y_pred = logreg.predict(X)\n",
    "print(\"Base Accuracy Score:\", metrics.accuracy_score(y, y_pred))\n",
    "\n",
    "### BaseLine Accuracy: 0.786"
   ]
  },
  {
   "cell_type": "code",
   "execution_count": 39,
   "metadata": {},
   "outputs": [],
   "source": [
    "#Mapping Categorical Data to Category Codes, so the columns shall be treated as integers\n",
    "cat_columns = X.select_dtypes(['category']).columns\n",
    "X[cat_columns] = X[cat_columns].apply(lambda x: x.cat.codes)"
   ]
  },
  {
   "cell_type": "code",
   "execution_count": 40,
   "metadata": {},
   "outputs": [
    {
     "data": {
      "text/plain": [
       "Rate          float64\n",
       "Level_1          int8\n",
       "Region           int8\n",
       "Level_2          int8\n",
       "Criteria_1       int8\n",
       "Criteria_2       int8\n",
       "Type_1           int8\n",
       "Depth_1          int8\n",
       "Depth_2          int8\n",
       "Depth_3         int64\n",
       "Length_1         int8\n",
       "Radius_1        int64\n",
       "Ratio_1       float64\n",
       "Length_2         int8\n",
       "Level_3          int8\n",
       "dtype: object"
      ]
     },
     "execution_count": 40,
     "metadata": {},
     "output_type": "execute_result"
    }
   ],
   "source": [
    "X.dtypes"
   ]
  },
  {
   "cell_type": "code",
   "execution_count": 41,
   "metadata": {},
   "outputs": [
    {
     "data": {
      "text/plain": [
       "0       3\n",
       "1       0\n",
       "2       3\n",
       "3       3\n",
       "4       0\n",
       "5       0\n",
       "6       0\n",
       "7       2\n",
       "8       2\n",
       "9       3\n",
       "       ..\n",
       "5990    0\n",
       "5991    0\n",
       "5992    3\n",
       "5993    2\n",
       "5994    3\n",
       "5995    0\n",
       "5996    2\n",
       "5997    2\n",
       "5998    3\n",
       "5999    3\n",
       "Length: 6000, dtype: int8"
      ]
     },
     "execution_count": 41,
     "metadata": {},
     "output_type": "execute_result"
    }
   ],
   "source": [
    "y = y.cat.codes\n",
    "y"
   ]
  },
  {
   "cell_type": "code",
   "execution_count": 152,
   "metadata": {},
   "outputs": [
    {
     "name": "stdout",
     "output_type": "stream",
     "text": [
      "KNN: 1 KNN Accuracy Score: 1.0\n",
      "KNN: 2 KNN Accuracy Score: 0.7936666666666666\n",
      "KNN: 3 KNN Accuracy Score: 0.787\n",
      "KNN: 4 KNN Accuracy Score: 0.7551666666666667\n",
      "KNN: 5 KNN Accuracy Score: 0.7426666666666667\n",
      "KNN: 6 KNN Accuracy Score: 0.7331666666666666\n",
      "KNN: 7 KNN Accuracy Score: 0.7233333333333334\n",
      "KNN: 8 KNN Accuracy Score: 0.7133333333333334\n",
      "KNN: 9 KNN Accuracy Score: 0.7011666666666667\n",
      "KNN: 10 KNN Accuracy Score: 0.6951666666666667\n",
      "KNN: 11 KNN Accuracy Score: 0.6858333333333333\n",
      "KNN: 12 KNN Accuracy Score: 0.678\n",
      "KNN: 13 KNN Accuracy Score: 0.675\n",
      "KNN: 14 KNN Accuracy Score: 0.672\n",
      "KNN: 15 KNN Accuracy Score: 0.6711666666666667\n",
      "KNN: 16 KNN Accuracy Score: 0.6656666666666666\n",
      "KNN: 17 KNN Accuracy Score: 0.6591666666666667\n",
      "KNN: 18 KNN Accuracy Score: 0.6553333333333333\n",
      "KNN: 19 KNN Accuracy Score: 0.6475\n",
      "KNN: 20 KNN Accuracy Score: 0.6476666666666666\n",
      "KNN: 21 KNN Accuracy Score: 0.6438333333333334\n",
      "KNN: 22 KNN Accuracy Score: 0.6378333333333334\n",
      "KNN: 23 KNN Accuracy Score: 0.6351666666666667\n",
      "KNN: 24 KNN Accuracy Score: 0.6348333333333334\n",
      "KNN: 25 KNN Accuracy Score: 0.6271666666666667\n"
     ]
    },
    {
     "data": {
      "image/png": "[encoded data removed]",
      "text/plain": [
       "<Figure size 432x288 with 1 Axes>"
      ]
     },
     "metadata": {
      "needs_background": "light"
     },
     "output_type": "display_data"
    }
   ],
   "source": [
    "### Experimenting another classifier\n",
    "### Chose KNN with different n values\n",
    "k_range = list(range(1,26))\n",
    "scores = []\n",
    "for k in k_range:\n",
    "    knn = KNeighborsClassifier(n_neighbors=k)\n",
    "    knn.fit(X, y)\n",
    "    y_pred = knn.predict(X)\n",
    "    scores.append(metrics.accuracy_score(y, y_pred))\n",
    "    print(\"KNN:\",k,\"KNN Accuracy Score:\", metrics.accuracy_score(y, y_pred))\n",
    "    \n",
    "plt.plot(k_range, scores)\n",
    "plt.xlabel('Value of k for KNN')\n",
    "plt.ylabel('Accuracy Score')\n",
    "plt.title('Accuracy Scores for Values of k of k-Nearest-Neighbors')\n",
    "plt.show()\n",
    "\n",
    "### The elbow point for this classifer is KNN with 25 Neighbours, \n",
    "### the accuracy is still declining. I believe KNN may not be the right\n",
    "### model for this dataset (will test with cross validation too)\n",
    "### KNN's is overfitting the data with no good accuracy!!!"
   ]
  },
  {
   "cell_type": "code",
   "execution_count": 45,
   "metadata": {},
   "outputs": [],
   "source": [
    "### Splitting the training and testing data\n",
    "### 80/20 split\n",
    "X_train, X_test, y_train, y_test = train_test_split(X, y, test_size=0.2, random_state=5)"
   ]
  },
  {
   "cell_type": "code",
   "execution_count": 46,
   "metadata": {},
   "outputs": [
    {
     "name": "stderr",
     "output_type": "stream",
     "text": [
      "C:\\ProgramData\\Anaconda3\\lib\\site-packages\\sklearn\\linear_model\\logistic.py:433: FutureWarning: Default solver will be changed to 'lbfgs' in 0.22. Specify a solver to silence this warning.\n",
      "  FutureWarning)\n",
      "C:\\ProgramData\\Anaconda3\\lib\\site-packages\\sklearn\\linear_model\\logistic.py:460: FutureWarning: Default multi_class will be changed to 'auto' in 0.22. Specify the multi_class option to silence this warning.\n",
      "  \"this warning.\", FutureWarning)\n"
     ]
    },
    {
     "name": "stdout",
     "output_type": "stream",
     "text": [
      "Base Line Accuracy Test: 0.7941666666666667\n"
     ]
    }
   ],
   "source": [
    "### Re-evaluate the Logistic Regression BaseLine Classifier to ensure, the training data\n",
    "### generated from the dataset isn't too different from the full dataset\n",
    "logreg = LogisticRegression()\n",
    "logreg.fit(X_train, y_train)\n",
    "y_pred = logreg.predict(X_test)\n",
    "print(\"Base Line Accuracy Test:\",metrics.accuracy_score(y_test, y_pred))\n",
    "\n",
    "### The BaseLine Accuracy hasn't changed with the training dataset.\n",
    "### Hence, we shall proceed to spot check various classification algorithms"
   ]
  },
  {
   "cell_type": "code",
   "execution_count": 47,
   "metadata": {},
   "outputs": [
    {
     "name": "stdout",
     "output_type": "stream",
     "text": [
      "LR: 0.799167 (0.022673)\n",
      "LDA: 0.881250 (0.012910)\n",
      "KNN: 0.577500 (0.015417)\n",
      "CART: 0.896875 (0.016490)\n",
      "NB: 0.744583 (0.021311)\n",
      "SVM: 0.366250 (0.018629)\n"
     ]
    }
   ],
   "source": [
    "### Spot-Check Algorithms\n",
    "### Algorithms chosen: Logistic, LDA, KNN, Decistion Trees (CART), NB and SVM\n",
    "models = []\n",
    "models.append(('LR', LogisticRegression(solver='liblinear', multi_class='ovr')))\n",
    "models.append(('LDA', LinearDiscriminantAnalysis()))\n",
    "models.append(('KNN', KNeighborsClassifier()))\n",
    "models.append(('CART', DecisionTreeClassifier()))\n",
    "models.append(('NB', GaussianNB()))\n",
    "models.append(('SVM', SVC(gamma='auto')))\n",
    "# evaluate each model in turn\n",
    "results = []\n",
    "names = []\n",
    "for name, model in models:\n",
    "    kfold = KFold(n_splits=10, random_state=5)\n",
    "    cv_results = cross_val_score(model, X_train, y_train, cv=kfold, scoring='accuracy')\n",
    "    results.append(cv_results)\n",
    "    names.append(name)\n",
    "    msg = \"%s: %f (%f)\" % (name, cv_results.mean(), cv_results.std())\n",
    "    print(msg)\n",
    "\n",
    "### CART has a good prediction accuracy of 89%"
   ]
  },
  {
   "cell_type": "code",
   "execution_count": 48,
   "metadata": {},
   "outputs": [
    {
     "data": {
      "image/png": "[encoded data removed]",
      "text/plain": [
       "<Figure size 432x288 with 1 Axes>"
      ]
     },
     "metadata": {
      "needs_background": "light"
     },
     "output_type": "display_data"
    }
   ],
   "source": [
    "### Compare Algorithms visually\n",
    "\n",
    "fig = pyplot.figure()\n",
    "fig.suptitle('Algorithm Comparison')\n",
    "ax = fig.add_subplot(111)\n",
    "pyplot.boxplot(results)\n",
    "ax.set_xticklabels(names)\n",
    "pyplot.show()\n",
    "\n",
    "### As mentioned earlier, CART is the best performing algorithm as of now"
   ]
  },
  {
   "cell_type": "code",
   "execution_count": 49,
   "metadata": {},
   "outputs": [
    {
     "name": "stdout",
     "output_type": "stream",
     "text": [
      "RF: 0.867292 (0.022049)\n",
      "Extra: 0.792083 (0.021078)\n",
      "Ada: 0.662500 (0.061031)\n",
      "GradientBC: 0.949167 (0.011829)\n"
     ]
    }
   ],
   "source": [
    "### Evaluate Ensemble Models\n",
    "### Ensemble Models: Random Forest, Extra Trees, Adaboot, GradientBoosting\n",
    "models = []\n",
    "models.append(('RF',RandomForestClassifier(n_estimators=10)))\n",
    "models.append(('Extra', ExtraTreesClassifier(n_estimators=10, max_depth=None,\n",
    "                min_samples_split=2, random_state=5)))\n",
    "models.append(('Ada', AdaBoostClassifier(n_estimators=100)))\n",
    "models.append(('GradientBC', GradientBoostingClassifier(n_estimators=100, learning_rate=1.0,\n",
    "    max_depth=1, random_state=5)))\n",
    "# evaluate each model in turn\n",
    "results = []\n",
    "names = []\n",
    "for name, model in models:\n",
    "    kfold = KFold(n_splits=10, random_state=5)\n",
    "    cv_results = cross_val_score(model, X_train, y_train, cv=kfold, scoring='accuracy')\n",
    "    results.append(cv_results)\n",
    "    names.append(name)\n",
    "    msg = \"%s: %f (%f)\" % (name, cv_results.mean(), cv_results.std())\n",
    "    print(msg)\n",
    "\n",
    "### GradientBC has excellent prediction accuracy of 94.9%\n",
    "### Let's tune GradientBC manually, check accuracy and evaluate\n",
    "### precision and recall"
   ]
  },
  {
   "cell_type": "code",
   "execution_count": 155,
   "metadata": {},
   "outputs": [
    {
     "name": "stdout",
     "output_type": "stream",
     "text": [
      "GradientBC Accuracy: 0.9433333333333334\n",
      "Confusion Matrix: [[230   0  16   0]\n",
      " [  0 110   0  14]\n",
      " [  6   0 451  13]\n",
      " [  0   1  18 341]]\n",
      "Classification Report:\n",
      "               precision    recall  f1-score   support\n",
      "\n",
      "           0       0.97      0.93      0.95       246\n",
      "           1       0.99      0.89      0.94       124\n",
      "           2       0.93      0.96      0.94       470\n",
      "           3       0.93      0.95      0.94       360\n",
      "\n",
      "   micro avg       0.94      0.94      0.94      1200\n",
      "   macro avg       0.96      0.93      0.94      1200\n",
      "weighted avg       0.94      0.94      0.94      1200\n",
      "\n"
     ]
    }
   ],
   "source": [
    "### Manual Hyperparameter Tuning - GradientBC\n",
    "param_test1 = {'n_estimators':range(50,500,50)}\n",
    "learning_rate = 0.1\n",
    "grid = GridSearchCV(estimator = GradientBoostingClassifier(learning_rate=learning_rate, min_samples_split=500,min_samples_leaf=50,max_depth=8,max_features='sqrt'),\n",
    "param_grid = param_test1, scoring='accuracy',n_jobs=4,iid=True,cv=5)\n",
    "\n",
    "grid_result  = grid.fit(X_train,y_train)\n",
    "predictions = grid_result.predict(X_test)\n",
    "print(\"GradientBC Accuracy:\", accuracy_score(y_test, predictions))\n",
    "print(\"Confusion Matrix:\", confusion_matrix(y_test, predictions))\n",
    "print(\"Classification Report:\\n\", classification_report(y_test, predictions))\n",
    "\n",
    "### Precision, Recall and Accuracy metrics tally each other\n",
    "### In other words, the accuracy results can be trusted for this dataset as\n",
    "### Precision and Recall values are close the accuracy results\n",
    "### The accuracy has goine down a little bit, that may be due to model tuning.\n",
    "### I will perform an extensive Grid Tuning, to identify the right parameters in the\n",
    "### next section.."
   ]
  },
  {
   "cell_type": "code",
   "execution_count": 53,
   "metadata": {},
   "outputs": [
    {
     "name": "stdout",
     "output_type": "stream",
     "text": [
      "      Iter       Train Loss   Remaining Time \n",
      "         1        5868.6534           13.60m\n",
      "         2        5347.8088            7.81m\n",
      "         3        4918.1691            5.43m\n",
      "         4        4556.7249            4.16m\n",
      "         5        4271.4930            3.53m\n",
      "         6        3994.4488            2.99m\n",
      "         7        3769.4124            2.74m\n",
      "         8        3562.9932            2.42m\n",
      "         9        3354.2708            2.16m\n",
      "        10        3188.0922            1.95m\n",
      "        20        2094.4622            1.01m\n",
      "        30        1520.7664           40.99s\n",
      "        40        1163.4238           31.15s\n",
      "        50         951.8337           24.79s\n",
      "        60         799.7431           20.38s\n",
      "        70         686.1914           17.17s\n",
      "        80         600.7303           14.72s\n",
      "        90         531.9178           12.73s\n",
      "       100         470.6221           11.10s\n",
      "       200         183.5114            2.43s\n",
      "0.955\n",
      "[[237   0   9   0]\n",
      " [  0 113   0  11]\n",
      " [  7   0 447  16]\n",
      " [  0   1  10 349]]\n",
      "              precision    recall  f1-score   support\n",
      "\n",
      "           0       0.97      0.96      0.97       246\n",
      "           1       0.99      0.91      0.95       124\n",
      "           2       0.96      0.95      0.96       470\n",
      "           3       0.93      0.97      0.95       360\n",
      "\n",
      "   micro avg       0.95      0.95      0.95      1200\n",
      "   macro avg       0.96      0.95      0.96      1200\n",
      "weighted avg       0.96      0.95      0.96      1200\n",
      "\n"
     ]
    }
   ],
   "source": [
    "### Extensice Hyperparameter Grid Search/Tuning \n",
    "\n",
    "param_grid = {'learning_rate': [0.1, 0.05, 0.02, 0.01],\n",
    "              'max_depth': [6, 8],\n",
    "              'min_samples_leaf': [50,100,150],\n",
    "              'max_features': [8,10] ,\n",
    "              'n_estimators':range(50,500,50),\n",
    "              'min_samples_split':[400,500]\n",
    "              }\n",
    "\n",
    "# Tune GradientBC\n",
    "param_test1 = {'n_estimators':range(50,500,50)}\n",
    "learning_rate = [0.1, 0.05, 0.02, 0.01]\n",
    "grid = GridSearchCV(estimator = GradientBoostingClassifier(verbose=True),param_grid = param_grid, scoring='accuracy',n_jobs=4,iid=True,cv=5)\n",
    "\n",
    "grid_result  = grid.fit(X_train,y_train)\n",
    "\n",
    "predictions = grid_result.predict(X_test)\n",
    "print(accuracy_score(y_test, predictions))\n",
    "print(confusion_matrix(y_test, predictions))\n",
    "print(classification_report(y_test, predictions))\n",
    "\n",
    "### After several hours(4 hours) of Grid search, I identified, the model to have\n",
    "### Accuracy improved slightly along with good precision and recall metrics\n",
    "### I would use this model to predict the validation data"
   ]
  },
  {
   "cell_type": "code",
   "execution_count": 63,
   "metadata": {},
   "outputs": [
    {
     "data": {
      "text/html": [
       "<div>\n",
       "<style scoped>\n",
       "    .dataframe tbody tr th:only-of-type {\n",
       "        vertical-align: middle;\n",
       "    }\n",
       "\n",
       "    .dataframe tbody tr th {\n",
       "        vertical-align: top;\n",
       "    }\n",
       "\n",
       "    .dataframe thead th {\n",
       "        text-align: right;\n",
       "    }\n",
       "</style>\n",
       "<table border=\"1\" class=\"dataframe\">\n",
       "  <thead>\n",
       "    <tr style=\"text-align: right;\">\n",
       "      <th></th>\n",
       "      <th>ID</th>\n",
       "      <th>Rate</th>\n",
       "      <th>Level_1</th>\n",
       "      <th>Region</th>\n",
       "      <th>Level_2</th>\n",
       "      <th>Criteria_1</th>\n",
       "      <th>Criteria_2</th>\n",
       "      <th>Type_1</th>\n",
       "      <th>Depth_1</th>\n",
       "      <th>Depth_2</th>\n",
       "      <th>Depth_3</th>\n",
       "      <th>Length_1</th>\n",
       "      <th>Radius_1</th>\n",
       "      <th>Ratio_1</th>\n",
       "      <th>Length_2</th>\n",
       "      <th>Level_3</th>\n",
       "      <th>Job_Status</th>\n",
       "    </tr>\n",
       "  </thead>\n",
       "  <tbody>\n",
       "    <tr>\n",
       "      <th>0</th>\n",
       "      <td>0</td>\n",
       "      <td>301.99</td>\n",
       "      <td>0</td>\n",
       "      <td>1</td>\n",
       "      <td>0</td>\n",
       "      <td>0</td>\n",
       "      <td>0</td>\n",
       "      <td>1</td>\n",
       "      <td>11625</td>\n",
       "      <td>9125</td>\n",
       "      <td>1510</td>\n",
       "      <td>14</td>\n",
       "      <td>93</td>\n",
       "      <td>156.2</td>\n",
       "      <td>12.1</td>\n",
       "      <td>5</td>\n",
       "      <td>NaN</td>\n",
       "    </tr>\n",
       "    <tr>\n",
       "      <th>1</th>\n",
       "      <td>1</td>\n",
       "      <td>264.62</td>\n",
       "      <td>1</td>\n",
       "      <td>2</td>\n",
       "      <td>2</td>\n",
       "      <td>0</td>\n",
       "      <td>1</td>\n",
       "      <td>2</td>\n",
       "      <td>7625</td>\n",
       "      <td>10625</td>\n",
       "      <td>455</td>\n",
       "      <td>14</td>\n",
       "      <td>75</td>\n",
       "      <td>282.7</td>\n",
       "      <td>22.0</td>\n",
       "      <td>24</td>\n",
       "      <td>NaN</td>\n",
       "    </tr>\n",
       "    <tr>\n",
       "      <th>2</th>\n",
       "      <td>2</td>\n",
       "      <td>296.94</td>\n",
       "      <td>0</td>\n",
       "      <td>3</td>\n",
       "      <td>1</td>\n",
       "      <td>1</td>\n",
       "      <td>0</td>\n",
       "      <td>1</td>\n",
       "      <td>3000</td>\n",
       "      <td>10500</td>\n",
       "      <td>1080</td>\n",
       "      <td>14</td>\n",
       "      <td>91</td>\n",
       "      <td>146.3</td>\n",
       "      <td>11.0</td>\n",
       "      <td>13</td>\n",
       "      <td>NaN</td>\n",
       "    </tr>\n",
       "    <tr>\n",
       "      <th>3</th>\n",
       "      <td>3</td>\n",
       "      <td>203.01</td>\n",
       "      <td>1</td>\n",
       "      <td>0</td>\n",
       "      <td>1</td>\n",
       "      <td>1</td>\n",
       "      <td>0</td>\n",
       "      <td>0</td>\n",
       "      <td>2500</td>\n",
       "      <td>11250</td>\n",
       "      <td>1074</td>\n",
       "      <td>14</td>\n",
       "      <td>71</td>\n",
       "      <td>275.0</td>\n",
       "      <td>11.0</td>\n",
       "      <td>14</td>\n",
       "      <td>NaN</td>\n",
       "    </tr>\n",
       "    <tr>\n",
       "      <th>4</th>\n",
       "      <td>4</td>\n",
       "      <td>267.65</td>\n",
       "      <td>1</td>\n",
       "      <td>7</td>\n",
       "      <td>1</td>\n",
       "      <td>0</td>\n",
       "      <td>1</td>\n",
       "      <td>1</td>\n",
       "      <td>4250</td>\n",
       "      <td>5000</td>\n",
       "      <td>3670</td>\n",
       "      <td>14</td>\n",
       "      <td>61</td>\n",
       "      <td>253.0</td>\n",
       "      <td>9.9</td>\n",
       "      <td>21</td>\n",
       "      <td>NaN</td>\n",
       "    </tr>\n",
       "  </tbody>\n",
       "</table>\n",
       "</div>"
      ],
      "text/plain": [
       "   ID    Rate  Level_1  Region  Level_2  Criteria_1  Criteria_2  Type_1  \\\n",
       "0   0  301.99        0       1        0           0           0       1   \n",
       "1   1  264.62        1       2        2           0           1       2   \n",
       "2   2  296.94        0       3        1           1           0       1   \n",
       "3   3  203.01        1       0        1           1           0       0   \n",
       "4   4  267.65        1       7        1           0           1       1   \n",
       "\n",
       "   Depth_1  Depth_2  Depth_3  Length_1  Radius_1  Ratio_1  Length_2  Level_3  \\\n",
       "0    11625     9125     1510        14        93    156.2      12.1        5   \n",
       "1     7625    10625      455        14        75    282.7      22.0       24   \n",
       "2     3000    10500     1080        14        91    146.3      11.0       13   \n",
       "3     2500    11250     1074        14        71    275.0      11.0       14   \n",
       "4     4250     5000     3670        14        61    253.0       9.9       21   \n",
       "\n",
       "   Job_Status  \n",
       "0         NaN  \n",
       "1         NaN  \n",
       "2         NaN  \n",
       "3         NaN  \n",
       "4         NaN  "
      ]
     },
     "execution_count": 63,
     "metadata": {},
     "output_type": "execute_result"
    }
   ],
   "source": [
    "### Read Validation data\n",
    "df_validation = pd.read_csv('data/Validation_Data_C.csv')\n",
    "df_validation.head()"
   ]
  },
  {
   "cell_type": "code",
   "execution_count": 64,
   "metadata": {},
   "outputs": [],
   "source": [
    "### Remove ID and Job_Status\n",
    "df_validation.drop(['ID','Job_Status'], axis=1, inplace=True)"
   ]
  },
  {
   "cell_type": "code",
   "execution_count": 65,
   "metadata": {},
   "outputs": [],
   "source": [
    "for col in ['Level_1', 'Region', 'Level_2', 'Criteria_1','Criteria_2','Type_1','Depth_1',\n",
    "            'Depth_2','Length_1','Level_3','Length_2']:\n",
    "    df_validation[col] = df_validation[col].astype('category')"
   ]
  },
  {
   "cell_type": "code",
   "execution_count": 66,
   "metadata": {},
   "outputs": [],
   "source": [
    "X_Validation = df_validation"
   ]
  },
  {
   "cell_type": "code",
   "execution_count": 67,
   "metadata": {},
   "outputs": [],
   "source": [
    "### Mapping Categorical Data to Category Codes, so the columns shall be treated as integers\n",
    "cat_columns = X_Validation.select_dtypes(['category']).columns\n",
    "X_Validation[cat_columns] = X_Validation[cat_columns].apply(lambda x: x.cat.codes)"
   ]
  },
  {
   "cell_type": "code",
   "execution_count": 68,
   "metadata": {},
   "outputs": [
    {
     "data": {
      "text/plain": [
       "Rate          float64\n",
       "Level_1          int8\n",
       "Region           int8\n",
       "Level_2          int8\n",
       "Criteria_1       int8\n",
       "Criteria_2       int8\n",
       "Type_1           int8\n",
       "Depth_1          int8\n",
       "Depth_2          int8\n",
       "Depth_3         int64\n",
       "Length_1         int8\n",
       "Radius_1        int64\n",
       "Ratio_1       float64\n",
       "Length_2         int8\n",
       "Level_3          int8\n",
       "dtype: object"
      ]
     },
     "execution_count": 68,
     "metadata": {},
     "output_type": "execute_result"
    }
   ],
   "source": [
    "X_Validation.dtypes"
   ]
  },
  {
   "cell_type": "code",
   "execution_count": 69,
   "metadata": {},
   "outputs": [
    {
     "data": {
      "text/html": [
       "<div>\n",
       "<style scoped>\n",
       "    .dataframe tbody tr th:only-of-type {\n",
       "        vertical-align: middle;\n",
       "    }\n",
       "\n",
       "    .dataframe tbody tr th {\n",
       "        vertical-align: top;\n",
       "    }\n",
       "\n",
       "    .dataframe thead th {\n",
       "        text-align: right;\n",
       "    }\n",
       "</style>\n",
       "<table border=\"1\" class=\"dataframe\">\n",
       "  <thead>\n",
       "    <tr style=\"text-align: right;\">\n",
       "      <th></th>\n",
       "      <th>Rate</th>\n",
       "      <th>Level_1</th>\n",
       "      <th>Region</th>\n",
       "      <th>Level_2</th>\n",
       "      <th>Criteria_1</th>\n",
       "      <th>Criteria_2</th>\n",
       "      <th>Type_1</th>\n",
       "      <th>Depth_1</th>\n",
       "      <th>Depth_2</th>\n",
       "      <th>Depth_3</th>\n",
       "      <th>Length_1</th>\n",
       "      <th>Radius_1</th>\n",
       "      <th>Ratio_1</th>\n",
       "      <th>Length_2</th>\n",
       "      <th>Level_3</th>\n",
       "    </tr>\n",
       "  </thead>\n",
       "  <tbody>\n",
       "    <tr>\n",
       "      <th>0</th>\n",
       "      <td>301.99</td>\n",
       "      <td>0</td>\n",
       "      <td>1</td>\n",
       "      <td>0</td>\n",
       "      <td>0</td>\n",
       "      <td>0</td>\n",
       "      <td>1</td>\n",
       "      <td>55</td>\n",
       "      <td>42</td>\n",
       "      <td>1510</td>\n",
       "      <td>4</td>\n",
       "      <td>93</td>\n",
       "      <td>156.2</td>\n",
       "      <td>2</td>\n",
       "      <td>5</td>\n",
       "    </tr>\n",
       "    <tr>\n",
       "      <th>1</th>\n",
       "      <td>264.62</td>\n",
       "      <td>1</td>\n",
       "      <td>2</td>\n",
       "      <td>2</td>\n",
       "      <td>0</td>\n",
       "      <td>1</td>\n",
       "      <td>2</td>\n",
       "      <td>37</td>\n",
       "      <td>50</td>\n",
       "      <td>455</td>\n",
       "      <td>4</td>\n",
       "      <td>75</td>\n",
       "      <td>282.7</td>\n",
       "      <td>11</td>\n",
       "      <td>24</td>\n",
       "    </tr>\n",
       "    <tr>\n",
       "      <th>2</th>\n",
       "      <td>296.94</td>\n",
       "      <td>0</td>\n",
       "      <td>3</td>\n",
       "      <td>1</td>\n",
       "      <td>1</td>\n",
       "      <td>0</td>\n",
       "      <td>1</td>\n",
       "      <td>15</td>\n",
       "      <td>49</td>\n",
       "      <td>1080</td>\n",
       "      <td>4</td>\n",
       "      <td>91</td>\n",
       "      <td>146.3</td>\n",
       "      <td>1</td>\n",
       "      <td>13</td>\n",
       "    </tr>\n",
       "    <tr>\n",
       "      <th>3</th>\n",
       "      <td>203.01</td>\n",
       "      <td>1</td>\n",
       "      <td>0</td>\n",
       "      <td>1</td>\n",
       "      <td>1</td>\n",
       "      <td>0</td>\n",
       "      <td>0</td>\n",
       "      <td>14</td>\n",
       "      <td>53</td>\n",
       "      <td>1074</td>\n",
       "      <td>4</td>\n",
       "      <td>71</td>\n",
       "      <td>275.0</td>\n",
       "      <td>1</td>\n",
       "      <td>14</td>\n",
       "    </tr>\n",
       "    <tr>\n",
       "      <th>4</th>\n",
       "      <td>267.65</td>\n",
       "      <td>1</td>\n",
       "      <td>7</td>\n",
       "      <td>1</td>\n",
       "      <td>0</td>\n",
       "      <td>1</td>\n",
       "      <td>1</td>\n",
       "      <td>22</td>\n",
       "      <td>20</td>\n",
       "      <td>3670</td>\n",
       "      <td>4</td>\n",
       "      <td>61</td>\n",
       "      <td>253.0</td>\n",
       "      <td>0</td>\n",
       "      <td>21</td>\n",
       "    </tr>\n",
       "    <tr>\n",
       "      <th>5</th>\n",
       "      <td>212.10</td>\n",
       "      <td>0</td>\n",
       "      <td>7</td>\n",
       "      <td>1</td>\n",
       "      <td>0</td>\n",
       "      <td>1</td>\n",
       "      <td>0</td>\n",
       "      <td>24</td>\n",
       "      <td>28</td>\n",
       "      <td>371</td>\n",
       "      <td>0</td>\n",
       "      <td>66</td>\n",
       "      <td>250.8</td>\n",
       "      <td>5</td>\n",
       "      <td>12</td>\n",
       "    </tr>\n",
       "    <tr>\n",
       "      <th>6</th>\n",
       "      <td>203.01</td>\n",
       "      <td>2</td>\n",
       "      <td>7</td>\n",
       "      <td>0</td>\n",
       "      <td>1</td>\n",
       "      <td>1</td>\n",
       "      <td>2</td>\n",
       "      <td>49</td>\n",
       "      <td>34</td>\n",
       "      <td>58</td>\n",
       "      <td>0</td>\n",
       "      <td>119</td>\n",
       "      <td>158.4</td>\n",
       "      <td>8</td>\n",
       "      <td>10</td>\n",
       "    </tr>\n",
       "    <tr>\n",
       "      <th>7</th>\n",
       "      <td>237.35</td>\n",
       "      <td>1</td>\n",
       "      <td>1</td>\n",
       "      <td>2</td>\n",
       "      <td>0</td>\n",
       "      <td>0</td>\n",
       "      <td>2</td>\n",
       "      <td>40</td>\n",
       "      <td>27</td>\n",
       "      <td>1611</td>\n",
       "      <td>3</td>\n",
       "      <td>129</td>\n",
       "      <td>266.2</td>\n",
       "      <td>3</td>\n",
       "      <td>7</td>\n",
       "    </tr>\n",
       "    <tr>\n",
       "      <th>8</th>\n",
       "      <td>266.64</td>\n",
       "      <td>1</td>\n",
       "      <td>2</td>\n",
       "      <td>1</td>\n",
       "      <td>1</td>\n",
       "      <td>0</td>\n",
       "      <td>2</td>\n",
       "      <td>9</td>\n",
       "      <td>0</td>\n",
       "      <td>1306</td>\n",
       "      <td>3</td>\n",
       "      <td>87</td>\n",
       "      <td>259.6</td>\n",
       "      <td>0</td>\n",
       "      <td>18</td>\n",
       "    </tr>\n",
       "    <tr>\n",
       "      <th>9</th>\n",
       "      <td>250.48</td>\n",
       "      <td>1</td>\n",
       "      <td>5</td>\n",
       "      <td>2</td>\n",
       "      <td>0</td>\n",
       "      <td>0</td>\n",
       "      <td>2</td>\n",
       "      <td>6</td>\n",
       "      <td>2</td>\n",
       "      <td>787</td>\n",
       "      <td>3</td>\n",
       "      <td>105</td>\n",
       "      <td>136.4</td>\n",
       "      <td>10</td>\n",
       "      <td>6</td>\n",
       "    </tr>\n",
       "    <tr>\n",
       "      <th>...</th>\n",
       "      <td>...</td>\n",
       "      <td>...</td>\n",
       "      <td>...</td>\n",
       "      <td>...</td>\n",
       "      <td>...</td>\n",
       "      <td>...</td>\n",
       "      <td>...</td>\n",
       "      <td>...</td>\n",
       "      <td>...</td>\n",
       "      <td>...</td>\n",
       "      <td>...</td>\n",
       "      <td>...</td>\n",
       "      <td>...</td>\n",
       "      <td>...</td>\n",
       "      <td>...</td>\n",
       "    </tr>\n",
       "    <tr>\n",
       "      <th>90</th>\n",
       "      <td>186.85</td>\n",
       "      <td>1</td>\n",
       "      <td>4</td>\n",
       "      <td>1</td>\n",
       "      <td>1</td>\n",
       "      <td>0</td>\n",
       "      <td>2</td>\n",
       "      <td>25</td>\n",
       "      <td>21</td>\n",
       "      <td>3571</td>\n",
       "      <td>4</td>\n",
       "      <td>120</td>\n",
       "      <td>173.8</td>\n",
       "      <td>1</td>\n",
       "      <td>13</td>\n",
       "    </tr>\n",
       "    <tr>\n",
       "      <th>91</th>\n",
       "      <td>151.50</td>\n",
       "      <td>0</td>\n",
       "      <td>6</td>\n",
       "      <td>1</td>\n",
       "      <td>1</td>\n",
       "      <td>0</td>\n",
       "      <td>0</td>\n",
       "      <td>43</td>\n",
       "      <td>34</td>\n",
       "      <td>160</td>\n",
       "      <td>1</td>\n",
       "      <td>128</td>\n",
       "      <td>287.1</td>\n",
       "      <td>0</td>\n",
       "      <td>22</td>\n",
       "    </tr>\n",
       "    <tr>\n",
       "      <th>92</th>\n",
       "      <td>290.88</td>\n",
       "      <td>0</td>\n",
       "      <td>0</td>\n",
       "      <td>1</td>\n",
       "      <td>0</td>\n",
       "      <td>0</td>\n",
       "      <td>0</td>\n",
       "      <td>43</td>\n",
       "      <td>3</td>\n",
       "      <td>3638</td>\n",
       "      <td>1</td>\n",
       "      <td>61</td>\n",
       "      <td>125.4</td>\n",
       "      <td>6</td>\n",
       "      <td>6</td>\n",
       "    </tr>\n",
       "    <tr>\n",
       "      <th>93</th>\n",
       "      <td>159.58</td>\n",
       "      <td>0</td>\n",
       "      <td>0</td>\n",
       "      <td>1</td>\n",
       "      <td>1</td>\n",
       "      <td>1</td>\n",
       "      <td>1</td>\n",
       "      <td>28</td>\n",
       "      <td>45</td>\n",
       "      <td>1641</td>\n",
       "      <td>3</td>\n",
       "      <td>99</td>\n",
       "      <td>172.7</td>\n",
       "      <td>0</td>\n",
       "      <td>4</td>\n",
       "    </tr>\n",
       "    <tr>\n",
       "      <th>94</th>\n",
       "      <td>268.66</td>\n",
       "      <td>1</td>\n",
       "      <td>6</td>\n",
       "      <td>0</td>\n",
       "      <td>0</td>\n",
       "      <td>0</td>\n",
       "      <td>1</td>\n",
       "      <td>39</td>\n",
       "      <td>9</td>\n",
       "      <td>6386</td>\n",
       "      <td>2</td>\n",
       "      <td>127</td>\n",
       "      <td>309.1</td>\n",
       "      <td>1</td>\n",
       "      <td>23</td>\n",
       "    </tr>\n",
       "    <tr>\n",
       "      <th>95</th>\n",
       "      <td>211.09</td>\n",
       "      <td>1</td>\n",
       "      <td>6</td>\n",
       "      <td>0</td>\n",
       "      <td>0</td>\n",
       "      <td>1</td>\n",
       "      <td>2</td>\n",
       "      <td>38</td>\n",
       "      <td>36</td>\n",
       "      <td>6010</td>\n",
       "      <td>1</td>\n",
       "      <td>64</td>\n",
       "      <td>114.4</td>\n",
       "      <td>7</td>\n",
       "      <td>18</td>\n",
       "    </tr>\n",
       "    <tr>\n",
       "      <th>96</th>\n",
       "      <td>163.62</td>\n",
       "      <td>0</td>\n",
       "      <td>3</td>\n",
       "      <td>0</td>\n",
       "      <td>1</td>\n",
       "      <td>0</td>\n",
       "      <td>0</td>\n",
       "      <td>36</td>\n",
       "      <td>37</td>\n",
       "      <td>5403</td>\n",
       "      <td>0</td>\n",
       "      <td>70</td>\n",
       "      <td>291.5</td>\n",
       "      <td>2</td>\n",
       "      <td>25</td>\n",
       "    </tr>\n",
       "    <tr>\n",
       "      <th>97</th>\n",
       "      <td>233.31</td>\n",
       "      <td>0</td>\n",
       "      <td>7</td>\n",
       "      <td>0</td>\n",
       "      <td>0</td>\n",
       "      <td>0</td>\n",
       "      <td>1</td>\n",
       "      <td>59</td>\n",
       "      <td>1</td>\n",
       "      <td>12123</td>\n",
       "      <td>3</td>\n",
       "      <td>80</td>\n",
       "      <td>162.8</td>\n",
       "      <td>8</td>\n",
       "      <td>8</td>\n",
       "    </tr>\n",
       "    <tr>\n",
       "      <th>98</th>\n",
       "      <td>273.71</td>\n",
       "      <td>1</td>\n",
       "      <td>1</td>\n",
       "      <td>1</td>\n",
       "      <td>0</td>\n",
       "      <td>1</td>\n",
       "      <td>0</td>\n",
       "      <td>2</td>\n",
       "      <td>22</td>\n",
       "      <td>288</td>\n",
       "      <td>4</td>\n",
       "      <td>97</td>\n",
       "      <td>204.6</td>\n",
       "      <td>9</td>\n",
       "      <td>22</td>\n",
       "    </tr>\n",
       "    <tr>\n",
       "      <th>99</th>\n",
       "      <td>266.64</td>\n",
       "      <td>1</td>\n",
       "      <td>5</td>\n",
       "      <td>1</td>\n",
       "      <td>0</td>\n",
       "      <td>1</td>\n",
       "      <td>0</td>\n",
       "      <td>25</td>\n",
       "      <td>51</td>\n",
       "      <td>826</td>\n",
       "      <td>1</td>\n",
       "      <td>74</td>\n",
       "      <td>152.9</td>\n",
       "      <td>8</td>\n",
       "      <td>24</td>\n",
       "    </tr>\n",
       "  </tbody>\n",
       "</table>\n",
       "<p>100 rows × 15 columns</p>\n",
       "</div>"
      ],
      "text/plain": [
       "      Rate  Level_1  Region  Level_2  Criteria_1  Criteria_2  Type_1  Depth_1  \\\n",
       "0   301.99        0       1        0           0           0       1       55   \n",
       "1   264.62        1       2        2           0           1       2       37   \n",
       "2   296.94        0       3        1           1           0       1       15   \n",
       "3   203.01        1       0        1           1           0       0       14   \n",
       "4   267.65        1       7        1           0           1       1       22   \n",
       "5   212.10        0       7        1           0           1       0       24   \n",
       "6   203.01        2       7        0           1           1       2       49   \n",
       "7   237.35        1       1        2           0           0       2       40   \n",
       "8   266.64        1       2        1           1           0       2        9   \n",
       "9   250.48        1       5        2           0           0       2        6   \n",
       "..     ...      ...     ...      ...         ...         ...     ...      ...   \n",
       "90  186.85        1       4        1           1           0       2       25   \n",
       "91  151.50        0       6        1           1           0       0       43   \n",
       "92  290.88        0       0        1           0           0       0       43   \n",
       "93  159.58        0       0        1           1           1       1       28   \n",
       "94  268.66        1       6        0           0           0       1       39   \n",
       "95  211.09        1       6        0           0           1       2       38   \n",
       "96  163.62        0       3        0           1           0       0       36   \n",
       "97  233.31        0       7        0           0           0       1       59   \n",
       "98  273.71        1       1        1           0           1       0        2   \n",
       "99  266.64        1       5        1           0           1       0       25   \n",
       "\n",
       "    Depth_2  Depth_3  Length_1  Radius_1  Ratio_1  Length_2  Level_3  \n",
       "0        42     1510         4        93    156.2         2        5  \n",
       "1        50      455         4        75    282.7        11       24  \n",
       "2        49     1080         4        91    146.3         1       13  \n",
       "3        53     1074         4        71    275.0         1       14  \n",
       "4        20     3670         4        61    253.0         0       21  \n",
       "5        28      371         0        66    250.8         5       12  \n",
       "6        34       58         0       119    158.4         8       10  \n",
       "7        27     1611         3       129    266.2         3        7  \n",
       "8         0     1306         3        87    259.6         0       18  \n",
       "9         2      787         3       105    136.4        10        6  \n",
       "..      ...      ...       ...       ...      ...       ...      ...  \n",
       "90       21     3571         4       120    173.8         1       13  \n",
       "91       34      160         1       128    287.1         0       22  \n",
       "92        3     3638         1        61    125.4         6        6  \n",
       "93       45     1641         3        99    172.7         0        4  \n",
       "94        9     6386         2       127    309.1         1       23  \n",
       "95       36     6010         1        64    114.4         7       18  \n",
       "96       37     5403         0        70    291.5         2       25  \n",
       "97        1    12123         3        80    162.8         8        8  \n",
       "98       22      288         4        97    204.6         9       22  \n",
       "99       51      826         1        74    152.9         8       24  \n",
       "\n",
       "[100 rows x 15 columns]"
      ]
     },
     "execution_count": 69,
     "metadata": {},
     "output_type": "execute_result"
    }
   ],
   "source": [
    "#predictions_New = grid_result.predict(X_Validation)\n",
    "X_Validation"
   ]
  },
  {
   "cell_type": "code",
   "execution_count": 81,
   "metadata": {},
   "outputs": [],
   "source": [
    "newPredictions = pd.DataFrame() "
   ]
  },
  {
   "cell_type": "code",
   "execution_count": 126,
   "metadata": {},
   "outputs": [],
   "source": [
    "### perform predictions using the latest \"Tuned Hyperparameter Model\"\n",
    "numpyPredctions = grid_result.predict(X_Validation)"
   ]
  },
  {
   "cell_type": "code",
   "execution_count": 127,
   "metadata": {},
   "outputs": [],
   "source": [
    "### Assign it to the validation dataset\n",
    "newPredictions['Job_status'] = numpyPredctions"
   ]
  },
  {
   "cell_type": "code",
   "execution_count": 128,
   "metadata": {},
   "outputs": [],
   "source": [
    "newPredictions = newPredictions.astype('category')"
   ]
  },
  {
   "cell_type": "code",
   "execution_count": 129,
   "metadata": {},
   "outputs": [
    {
     "data": {
      "text/plain": [
       "Job_status    category\n",
       "dtype: object"
      ]
     },
     "execution_count": 129,
     "metadata": {},
     "output_type": "execute_result"
    }
   ],
   "source": [
    "newPredictions.dtypes"
   ]
  },
  {
   "cell_type": "code",
   "execution_count": 108,
   "metadata": {},
   "outputs": [],
   "source": [
    "\n",
    "#newPredictions[newPredictions['Job_status']==0]['Decoded_Job_Status'] = 'SeveralObjectivesComplete'"
   ]
  },
  {
   "cell_type": "code",
   "execution_count": 130,
   "metadata": {},
   "outputs": [],
   "source": [
    "newPredictions_backup = newPredictions.copy()"
   ]
  },
  {
   "cell_type": "code",
   "execution_count": 131,
   "metadata": {},
   "outputs": [],
   "source": [
    "Code_nums = {\"Job_status\":     {0:\"SeveralObjectivesComplete\", 1:\"SomeObjectivesComplete\",\n",
    "                                2:\"AllObjectivesComplete\",3:\"NoObjectiveComplete\"}\n",
    "                }"
   ]
  },
  {
   "cell_type": "code",
   "execution_count": 132,
   "metadata": {},
   "outputs": [
    {
     "data": {
      "text/html": [
       "<div>\n",
       "<style scoped>\n",
       "    .dataframe tbody tr th:only-of-type {\n",
       "        vertical-align: middle;\n",
       "    }\n",
       "\n",
       "    .dataframe tbody tr th {\n",
       "        vertical-align: top;\n",
       "    }\n",
       "\n",
       "    .dataframe thead th {\n",
       "        text-align: right;\n",
       "    }\n",
       "</style>\n",
       "<table border=\"1\" class=\"dataframe\">\n",
       "  <thead>\n",
       "    <tr style=\"text-align: right;\">\n",
       "      <th></th>\n",
       "      <th>Job_status</th>\n",
       "    </tr>\n",
       "  </thead>\n",
       "  <tbody>\n",
       "    <tr>\n",
       "      <th>0</th>\n",
       "      <td>AllObjectivesComplete</td>\n",
       "    </tr>\n",
       "    <tr>\n",
       "      <th>1</th>\n",
       "      <td>AllObjectivesComplete</td>\n",
       "    </tr>\n",
       "    <tr>\n",
       "      <th>2</th>\n",
       "      <td>SeveralObjectivesComplete</td>\n",
       "    </tr>\n",
       "    <tr>\n",
       "      <th>3</th>\n",
       "      <td>SeveralObjectivesComplete</td>\n",
       "    </tr>\n",
       "    <tr>\n",
       "      <th>4</th>\n",
       "      <td>SeveralObjectivesComplete</td>\n",
       "    </tr>\n",
       "  </tbody>\n",
       "</table>\n",
       "</div>"
      ],
      "text/plain": [
       "                  Job_status\n",
       "0      AllObjectivesComplete\n",
       "1      AllObjectivesComplete\n",
       "2  SeveralObjectivesComplete\n",
       "3  SeveralObjectivesComplete\n",
       "4  SeveralObjectivesComplete"
      ]
     },
     "execution_count": 132,
     "metadata": {},
     "output_type": "execute_result"
    }
   ],
   "source": [
    "### Decode the Job_Status column\n",
    "newPredictions.replace(Code_nums, inplace=True)\n",
    "newPredictions.head()"
   ]
  },
  {
   "cell_type": "code",
   "execution_count": 145,
   "metadata": {},
   "outputs": [],
   "source": [
    "df_validation_new = pd.read_csv('data/Validation_Data_C.csv')"
   ]
  },
  {
   "cell_type": "code",
   "execution_count": 146,
   "metadata": {},
   "outputs": [],
   "source": [
    "df_validation_new['Job_Status'] = newPredictions['Job_status']"
   ]
  },
  {
   "cell_type": "code",
   "execution_count": 148,
   "metadata": {},
   "outputs": [],
   "source": [
    "### Save the results to the CSV file\n",
    "df_validation_new.to_csv(\"FinalPredictions.csv\")"
   ]
  },
  {
   "cell_type": "markdown",
   "metadata": {},
   "source": [
    "Final Thoughts:\n",
    "\n",
    "1. The given dataset was clean (no null values) with less outliers\n",
    "2. Identified a few distributions to be non-normal (Uniform distrubution)\n",
    "3. If the accuracy/performance metrics were poor, I would have transformed\n",
    "    the Uniform distribution to Normal and tested the evaluation results.\n",
    "    However, in this case we have a good peformance metrics, so the additional \n",
    "    steps weren't necessary.\n",
    "4. Dataset was split to 80/20 and 10-Fold Cross Validation was perfomed on the\n",
    "    following models: Logistic Regression, LDA, KNN, CART, SVM, RF, ExtraTrees, \n",
    "    GradientBoosting and AdaBoost\n",
    "5. GradientBoosting had a good accuracy along with other performance metrics \n",
    "    such as Precision and Recall\n",
    "6. After extensive hyperparameter tuning, the accuracy was identified to be 95.5%\n",
    "    and validation data were predicted using this model\n",
    "7. The results are stored in \"FinalPredictions.csv\""
   ]
  },
  {
   "cell_type": "code",
   "execution_count": null,
   "metadata": {},
   "outputs": [],
   "source": []
  }
 ],
 "metadata": {
  "kernelspec": {
   "display_name": "Python 3",
   "language": "python",
   "name": "python3"
  },
  "language_info": {
   "codemirror_mode": {
    "name": "ipython",
    "version": 3
   },
   "file_extension": ".py",
   "mimetype": "text/x-python",
   "name": "python",
   "nbconvert_exporter": "python",
   "pygments_lexer": "ipython3",
   "version": "3.7.1"
  }
 },
 "nbformat": 4,
 "nbformat_minor": 2
}
