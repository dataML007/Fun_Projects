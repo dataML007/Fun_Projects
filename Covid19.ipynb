{
  "nbformat": 4,
  "nbformat_minor": 0,
  "metadata": {
    "colab": {
      "name": "Covid19.ipynb",
      "provenance": [],
      "collapsed_sections": [],
      "authorship_tag": "ABX9TyPCIMU8jRJCbU4KW486eqcE",
      "include_colab_link": true
    },
    "kernelspec": {
      "name": "python3",
      "display_name": "Python 3"
    }
  },
  "cells": [
    {
      "cell_type": "markdown",
      "metadata": {
        "id": "view-in-github",
        "colab_type": "text"
      },
      "source": [
        "<a href=\"https://colab.research.google.com/github/dataML007/Fun_Projects/blob/master/Covid19.ipynb\" target=\"_parent\"><img src=\"https://colab.research.google.com/assets/colab-badge.svg\" alt=\"Open In Colab\"/></a>"
      ]
    },
    {
      "cell_type": "code",
      "metadata": {
        "id": "qo62IzCIOZoj",
        "colab_type": "code",
        "colab": {
          "base_uri": "https://localhost:8080/",
          "height": 124
        },
        "outputId": "55a32052-5e75-4dd9-8b4b-7080b551ae50"
      },
      "source": [
        "from google.colab import drive\n",
        "drive.mount('/content/drive')"
      ],
      "execution_count": 1,
      "outputs": [
        {
          "output_type": "stream",
          "text": [
            "Go to this URL in a browser: https://accounts.google.com/o/oauth2/auth?client_id=947318989803-6bn6qk8qdgf4n4g3pfee6491hc0brc4i.apps.googleusercontent.com&redirect_uri=urn%3aietf%3awg%3aoauth%3a2.0%3aoob&response_type=code&scope=email%20https%3a%2f%2fwww.googleapis.com%2fauth%2fdocs.test%20https%3a%2f%2fwww.googleapis.com%2fauth%2fdrive%20https%3a%2f%2fwww.googleapis.com%2fauth%2fdrive.photos.readonly%20https%3a%2f%2fwww.googleapis.com%2fauth%2fpeopleapi.readonly\n",
            "\n",
            "Enter your authorization code:\n",
            "··········\n",
            "Mounted at /content/drive\n"
          ],
          "name": "stdout"
        }
      ]
    },
    {
      "cell_type": "code",
      "metadata": {
        "id": "RGOuDRU2RAKA",
        "colab_type": "code",
        "colab": {}
      },
      "source": [
        "drive_path = 'drive/My Drive/Colab Notebooks/Git Hub Repo/Fun Projects/COVID19/'"
      ],
      "execution_count": 0,
      "outputs": []
    },
    {
      "cell_type": "code",
      "metadata": {
        "id": "oXLlikRIQweX",
        "colab_type": "code",
        "colab": {
          "base_uri": "https://localhost:8080/",
          "height": 72
        },
        "outputId": "4eb8876e-4d61-4018-df2d-0826d887f88a"
      },
      "source": [
        "# This Python 3 environment comes with many helpful analytics libraries installed\n",
        "# It is defined by the kaggle/python docker image: https://github.com/kaggle/docker-python\n",
        "# For example, here's several helpful packages to load in \n",
        "\n",
        "import numpy as np # linear algebra\n",
        "import pandas as pd # data processing, CSV file I/O (e.g. pd.read_csv)\n",
        "import matplotlib.pyplot as plt # visualization library\n",
        "import seaborn as sns\n",
        "from plotly.offline import init_notebook_mode, plot, iplot\n",
        "import plotly as py\n",
        "init_notebook_mode(connected=True) \n",
        "from pandas.plotting import parallel_coordinates\n",
        "import plotly.graph_objs as go # plotly graphical object\n",
        "# Input data files are available in the \"../input/\" directory.\n",
        "# For example, running this (by clicking run or pressing Shift+Enter) will list the files in the input directory\n",
        "import warnings            \n",
        "#warnings.filterwarnings(\"ignore\") \n",
        "import os\n",
        "#print(os.listdir(\"../input\"))\n",
        "\n",
        "from matplotlib.dates import DateFormatter\n",
        "import matplotlib.ticker as ticker\n",
        "%matplotlib inline \n",
        "\n",
        "# Any results you write to the current directory are saved as output."
      ],
      "execution_count": 2,
      "outputs": [
        {
          "output_type": "stream",
          "text": [
            "/usr/local/lib/python3.6/dist-packages/statsmodels/tools/_testing.py:19: FutureWarning: pandas.util.testing is deprecated. Use the functions in the public API at pandas.testing instead.\n",
            "  import pandas.util.testing as tm\n"
          ],
          "name": "stderr"
        },
        {
          "output_type": "display_data",
          "data": {
            "text/html": [
              "        <script type=\"text/javascript\">\n",
              "        window.PlotlyConfig = {MathJaxConfig: 'local'};\n",
              "        if (window.MathJax) {MathJax.Hub.Config({SVG: {font: \"STIX-Web\"}});}\n",
              "        if (typeof require !== 'undefined') {\n",
              "        require.undef(\"plotly\");\n",
              "        requirejs.config({\n",
              "            paths: {\n",
              "                'plotly': ['https://cdn.plot.ly/plotly-latest.min']\n",
              "            }\n",
              "        });\n",
              "        require(['plotly'], function(Plotly) {\n",
              "            window._Plotly = Plotly;\n",
              "        });\n",
              "        }\n",
              "        </script>\n",
              "        "
            ]
          },
          "metadata": {
            "tags": []
          }
        }
      ]
    },
    {
      "cell_type": "code",
      "metadata": {
        "id": "GWWjpEvNQ6or",
        "colab_type": "code",
        "colab": {}
      },
      "source": [
        "pd.set_option('display.max_rows', 500)\n",
        "pd.set_option('display.max_columns', 500)\n",
        "pd.set_option('display.width', 1000)"
      ],
      "execution_count": 0,
      "outputs": []
    },
    {
      "cell_type": "code",
      "metadata": {
        "id": "kxb3q1aCRXly",
        "colab_type": "code",
        "colab": {
          "base_uri": "https://localhost:8080/",
          "height": 202
        },
        "outputId": "a2674e3c-8871-4b72-d69c-7a741d9607cf"
      },
      "source": [
        "import pandas as pd\n",
        "## load the meta data from the CSV file \n",
        "df = pd.read_csv(drive_path + 'COVID19.csv',header = 0)\n",
        "df.head()"
      ],
      "execution_count": 5,
      "outputs": [
        {
          "output_type": "execute_result",
          "data": {
            "text/html": [
              "<div>\n",
              "<style scoped>\n",
              "    .dataframe tbody tr th:only-of-type {\n",
              "        vertical-align: middle;\n",
              "    }\n",
              "\n",
              "    .dataframe tbody tr th {\n",
              "        vertical-align: top;\n",
              "    }\n",
              "\n",
              "    .dataframe thead th {\n",
              "        text-align: right;\n",
              "    }\n",
              "</style>\n",
              "<table border=\"1\" class=\"dataframe\">\n",
              "  <thead>\n",
              "    <tr style=\"text-align: right;\">\n",
              "      <th></th>\n",
              "      <th>Date</th>\n",
              "      <th>Country</th>\n",
              "      <th>Confirmed</th>\n",
              "      <th>Recovered</th>\n",
              "      <th>Deaths</th>\n",
              "    </tr>\n",
              "  </thead>\n",
              "  <tbody>\n",
              "    <tr>\n",
              "      <th>0</th>\n",
              "      <td>2020-01-22</td>\n",
              "      <td>Afghanistan</td>\n",
              "      <td>0</td>\n",
              "      <td>0</td>\n",
              "      <td>0</td>\n",
              "    </tr>\n",
              "    <tr>\n",
              "      <th>1</th>\n",
              "      <td>2020-01-22</td>\n",
              "      <td>Albania</td>\n",
              "      <td>0</td>\n",
              "      <td>0</td>\n",
              "      <td>0</td>\n",
              "    </tr>\n",
              "    <tr>\n",
              "      <th>2</th>\n",
              "      <td>2020-01-22</td>\n",
              "      <td>Algeria</td>\n",
              "      <td>0</td>\n",
              "      <td>0</td>\n",
              "      <td>0</td>\n",
              "    </tr>\n",
              "    <tr>\n",
              "      <th>3</th>\n",
              "      <td>2020-01-22</td>\n",
              "      <td>Andorra</td>\n",
              "      <td>0</td>\n",
              "      <td>0</td>\n",
              "      <td>0</td>\n",
              "    </tr>\n",
              "    <tr>\n",
              "      <th>4</th>\n",
              "      <td>2020-01-22</td>\n",
              "      <td>Angola</td>\n",
              "      <td>0</td>\n",
              "      <td>0</td>\n",
              "      <td>0</td>\n",
              "    </tr>\n",
              "  </tbody>\n",
              "</table>\n",
              "</div>"
            ],
            "text/plain": [
              "         Date      Country  Confirmed  Recovered  Deaths\n",
              "0  2020-01-22  Afghanistan          0          0       0\n",
              "1  2020-01-22      Albania          0          0       0\n",
              "2  2020-01-22      Algeria          0          0       0\n",
              "3  2020-01-22      Andorra          0          0       0\n",
              "4  2020-01-22       Angola          0          0       0"
            ]
          },
          "metadata": {
            "tags": []
          },
          "execution_count": 5
        }
      ]
    },
    {
      "cell_type": "code",
      "metadata": {
        "id": "SqO2cYgtRb4a",
        "colab_type": "code",
        "colab": {}
      },
      "source": [
        "# Load Data \n",
        "df = pd.read_csv('https://raw.githubusercontent.com/datasets/covid-19/master/data/countries-aggregated.csv', parse_dates=['Date'])\n",
        "country = ['Canada', 'Germany', 'United Kingdom', 'US', 'France', 'China','India']\n",
        "df = df[df['Country'].isin(country)]\n",
        "\n",
        "# Section 3 - Creating a Summary Column\n",
        "df['No_of_Cases'] = df[['Confirmed', 'Recovered', 'Deaths']].sum(axis=1)"
      ],
      "execution_count": 0,
      "outputs": []
    },
    {
      "cell_type": "code",
      "metadata": {
        "id": "XIhHqEO3aKwt",
        "colab_type": "code",
        "colab": {
          "base_uri": "https://localhost:8080/",
          "height": 233
        },
        "outputId": "c5e84d53-b004-4f71-b4e4-a1065204fefa"
      },
      "source": [
        "df.head()"
      ],
      "execution_count": 62,
      "outputs": [
        {
          "output_type": "execute_result",
          "data": {
            "text/html": [
              "<div>\n",
              "<style scoped>\n",
              "    .dataframe tbody tr th:only-of-type {\n",
              "        vertical-align: middle;\n",
              "    }\n",
              "\n",
              "    .dataframe tbody tr th {\n",
              "        vertical-align: top;\n",
              "    }\n",
              "\n",
              "    .dataframe thead th {\n",
              "        text-align: right;\n",
              "    }\n",
              "</style>\n",
              "<table border=\"1\" class=\"dataframe\">\n",
              "  <thead>\n",
              "    <tr style=\"text-align: right;\">\n",
              "      <th>Country</th>\n",
              "      <th>Canada</th>\n",
              "      <th>China</th>\n",
              "      <th>France</th>\n",
              "      <th>Germany</th>\n",
              "      <th>India</th>\n",
              "      <th>US</th>\n",
              "      <th>United Kingdom</th>\n",
              "    </tr>\n",
              "    <tr>\n",
              "      <th>Date</th>\n",
              "      <th></th>\n",
              "      <th></th>\n",
              "      <th></th>\n",
              "      <th></th>\n",
              "      <th></th>\n",
              "      <th></th>\n",
              "      <th></th>\n",
              "    </tr>\n",
              "  </thead>\n",
              "  <tbody>\n",
              "    <tr>\n",
              "      <th>2020-01-22</th>\n",
              "      <td>0</td>\n",
              "      <td>593</td>\n",
              "      <td>0</td>\n",
              "      <td>0</td>\n",
              "      <td>0</td>\n",
              "      <td>1</td>\n",
              "      <td>0</td>\n",
              "    </tr>\n",
              "    <tr>\n",
              "      <th>2020-01-23</th>\n",
              "      <td>0</td>\n",
              "      <td>691</td>\n",
              "      <td>0</td>\n",
              "      <td>0</td>\n",
              "      <td>0</td>\n",
              "      <td>1</td>\n",
              "      <td>0</td>\n",
              "    </tr>\n",
              "    <tr>\n",
              "      <th>2020-01-24</th>\n",
              "      <td>0</td>\n",
              "      <td>982</td>\n",
              "      <td>2</td>\n",
              "      <td>0</td>\n",
              "      <td>0</td>\n",
              "      <td>2</td>\n",
              "      <td>0</td>\n",
              "    </tr>\n",
              "    <tr>\n",
              "      <th>2020-01-25</th>\n",
              "      <td>0</td>\n",
              "      <td>1487</td>\n",
              "      <td>3</td>\n",
              "      <td>0</td>\n",
              "      <td>0</td>\n",
              "      <td>2</td>\n",
              "      <td>0</td>\n",
              "    </tr>\n",
              "    <tr>\n",
              "      <th>2020-01-26</th>\n",
              "      <td>1</td>\n",
              "      <td>2180</td>\n",
              "      <td>3</td>\n",
              "      <td>0</td>\n",
              "      <td>0</td>\n",
              "      <td>5</td>\n",
              "      <td>0</td>\n",
              "    </tr>\n",
              "  </tbody>\n",
              "</table>\n",
              "</div>"
            ],
            "text/plain": [
              "Country     Canada  China  France  Germany  India  US  United Kingdom\n",
              "Date                                                                 \n",
              "2020-01-22       0    593       0        0      0   1               0\n",
              "2020-01-23       0    691       0        0      0   1               0\n",
              "2020-01-24       0    982       2        0      0   2               0\n",
              "2020-01-25       0   1487       3        0      0   2               0\n",
              "2020-01-26       1   2180       3        0      0   5               0"
            ]
          },
          "metadata": {
            "tags": []
          },
          "execution_count": 62
        }
      ]
    },
    {
      "cell_type": "code",
      "metadata": {
        "id": "bxPkPvo-RnMC",
        "colab_type": "code",
        "colab": {}
      },
      "source": [
        "# Restructure Data\n",
        "df = df.pivot(index='Date', columns='Country', values='No_of_Cases')\n",
        "countries = list(df.columns)\n",
        "covid = df.reset_index('Date')\n",
        "covid.set_index(['Date'], inplace=True)\n",
        "covid.columns = countries"
      ],
      "execution_count": 0,
      "outputs": []
    },
    {
      "cell_type": "code",
      "metadata": {
        "id": "k1VT1wxISTMR",
        "colab_type": "code",
        "colab": {}
      },
      "source": [
        "# Calculate per capita 100,000  \n",
        "population = {'Canada':37664517, 'Germany': 83721496 , 'United Kingdom': 67802690 , 'US': 330548815, 'France': 65239883, 'China':1438027228, 'India':1380004385}\n",
        "percapita = covid.copy()\n",
        "for countries in list(percapita.columns):\n",
        "    percapita[countries] = percapita[countries]/population[countries]*100000"
      ],
      "execution_count": 0,
      "outputs": []
    },
    {
      "cell_type": "code",
      "metadata": {
        "id": "f6B_phifafZH",
        "colab_type": "code",
        "colab": {
          "base_uri": "https://localhost:8080/",
          "height": 233
        },
        "outputId": "792c6504-83dc-4e29-c4e4-9ff53779ac60"
      },
      "source": [
        "covid.head()"
      ],
      "execution_count": 63,
      "outputs": [
        {
          "output_type": "execute_result",
          "data": {
            "text/html": [
              "<div>\n",
              "<style scoped>\n",
              "    .dataframe tbody tr th:only-of-type {\n",
              "        vertical-align: middle;\n",
              "    }\n",
              "\n",
              "    .dataframe tbody tr th {\n",
              "        vertical-align: top;\n",
              "    }\n",
              "\n",
              "    .dataframe thead th {\n",
              "        text-align: right;\n",
              "    }\n",
              "</style>\n",
              "<table border=\"1\" class=\"dataframe\">\n",
              "  <thead>\n",
              "    <tr style=\"text-align: right;\">\n",
              "      <th></th>\n",
              "      <th>Canada</th>\n",
              "      <th>China</th>\n",
              "      <th>France</th>\n",
              "      <th>Germany</th>\n",
              "      <th>India</th>\n",
              "      <th>US</th>\n",
              "      <th>United Kingdom</th>\n",
              "    </tr>\n",
              "    <tr>\n",
              "      <th>Date</th>\n",
              "      <th></th>\n",
              "      <th></th>\n",
              "      <th></th>\n",
              "      <th></th>\n",
              "      <th></th>\n",
              "      <th></th>\n",
              "      <th></th>\n",
              "    </tr>\n",
              "  </thead>\n",
              "  <tbody>\n",
              "    <tr>\n",
              "      <th>2020-01-22</th>\n",
              "      <td>0</td>\n",
              "      <td>593</td>\n",
              "      <td>0</td>\n",
              "      <td>0</td>\n",
              "      <td>0</td>\n",
              "      <td>1</td>\n",
              "      <td>0</td>\n",
              "    </tr>\n",
              "    <tr>\n",
              "      <th>2020-01-23</th>\n",
              "      <td>0</td>\n",
              "      <td>691</td>\n",
              "      <td>0</td>\n",
              "      <td>0</td>\n",
              "      <td>0</td>\n",
              "      <td>1</td>\n",
              "      <td>0</td>\n",
              "    </tr>\n",
              "    <tr>\n",
              "      <th>2020-01-24</th>\n",
              "      <td>0</td>\n",
              "      <td>982</td>\n",
              "      <td>2</td>\n",
              "      <td>0</td>\n",
              "      <td>0</td>\n",
              "      <td>2</td>\n",
              "      <td>0</td>\n",
              "    </tr>\n",
              "    <tr>\n",
              "      <th>2020-01-25</th>\n",
              "      <td>0</td>\n",
              "      <td>1487</td>\n",
              "      <td>3</td>\n",
              "      <td>0</td>\n",
              "      <td>0</td>\n",
              "      <td>2</td>\n",
              "      <td>0</td>\n",
              "    </tr>\n",
              "    <tr>\n",
              "      <th>2020-01-26</th>\n",
              "      <td>1</td>\n",
              "      <td>2180</td>\n",
              "      <td>3</td>\n",
              "      <td>0</td>\n",
              "      <td>0</td>\n",
              "      <td>5</td>\n",
              "      <td>0</td>\n",
              "    </tr>\n",
              "  </tbody>\n",
              "</table>\n",
              "</div>"
            ],
            "text/plain": [
              "            Canada  China  France  Germany  India  US  United Kingdom\n",
              "Date                                                                 \n",
              "2020-01-22       0    593       0        0      0   1               0\n",
              "2020-01-23       0    691       0        0      0   1               0\n",
              "2020-01-24       0    982       2        0      0   2               0\n",
              "2020-01-25       0   1487       3        0      0   2               0\n",
              "2020-01-26       1   2180       3        0      0   5               0"
            ]
          },
          "metadata": {
            "tags": []
          },
          "execution_count": 63
        }
      ]
    },
    {
      "cell_type": "code",
      "metadata": {
        "id": "F74jcmnARu1C",
        "colab_type": "code",
        "colab": {
          "base_uri": "https://localhost:8080/",
          "height": 677
        },
        "outputId": "de8bcad3-046c-47a6-af0a-b89603ededa1"
      },
      "source": [
        "# Generate Colours and Style\n",
        "colors = {'Canada':'Green', 'China':'Red', 'France':'Yellow', 'Germany':'Orange', 'India': 'Grey', 'US':'Brown', 'United Kingdom':'Blue'}\n",
        "plt.style.use('ggplot')\n",
        "\n",
        "# Create Visualization\n",
        "plot = covid.plot(figsize=(10,10), color=list(colors.values()), linewidth=5, legend=False)\n",
        "plot.yaxis.set_major_formatter(ticker.StrMethodFormatter('{x:,.0f}'))\n",
        "plot.grid(color='#d4d4d4')\n",
        "plot.set_xlabel('Date',color='black')\n",
        "plot.set_ylabel('# of Cases',color='black')\n",
        "\n",
        "# Assign Color\n",
        "for country in list(colors.keys()):\n",
        "    plot.text(x = covid.index[-1], y = covid[country].max(), color = colors[country], s = country, weight = 'bold')\n",
        "\n",
        "# Add Labels\n",
        "plot.text(x = covid.index[50], y = int(covid.max().max())+45000, s = \"COVID-19 by Country Cases\", fontsize = 23, weight = 'bold', alpha = .75,color='black')\n",
        "#plot.text(x = covid.index[1], y = int(covid.max().max())+15000, s = \"For the USA, China, Germany, France, United Kingdom, and Canada\\nIncludes Current Cases, Recoveries, and Deaths\", fontsize = 16, alpha = .75)\n",
        "#plot.text(x = percapita.index[1], y = -100000,s = 'datagy.io  Source: https://github.com/datasets/covid-19/blob/master/data/countries-aggregated.csv', fontsize = 10)\n"
      ],
      "execution_count": 80,
      "outputs": [
        {
          "output_type": "execute_result",
          "data": {
            "text/plain": [
              "Text(2020-03-12 00:00:00, 2543218, 'COVID-19 by Country Cases')"
            ]
          },
          "metadata": {
            "tags": []
          },
          "execution_count": 80
        },
        {
          "output_type": "display_data",
          "data": {
            "image/png": "[encoded data removed]",
            "text/plain": [
              "<Figure size 720x720 with 1 Axes>"
            ]
          },
          "metadata": {
            "tags": []
          }
        }
      ]
    },
    {
      "cell_type": "code",
      "metadata": {
        "id": "pVUjGCkFTRa-",
        "colab_type": "code",
        "colab": {
          "base_uri": "https://localhost:8080/",
          "height": 571
        },
        "outputId": "eb594055-a602-4784-d453-66f7d28af5aa"
      },
      "source": [
        "percapitaplot = percapita.plot(figsize=(12,8), color=list(colors.values()), linewidth=5, legend=False)\n",
        "percapitaplot.grid(color='#d4d4d4')\n",
        "percapitaplot.set_xlabel('Date')\n",
        "percapitaplot.set_ylabel('# of Cases per 100,000 People')\n",
        "for country in list(colors.keys()):\n",
        "    percapitaplot.text(x = percapita.index[-1], y = percapita[country].max(), color = colors[country], s = country, weight = 'bold')\n",
        "percapitaplot.text(x = percapita.index[1], y = percapita.max().max()+25, s = \"Per Capita COVID-19 Cases by Country\", fontsize = 23, weight = 'bold', alpha = .75, color='black')\n"
      ],
      "execution_count": 83,
      "outputs": [
        {
          "output_type": "execute_result",
          "data": {
            "text/plain": [
              "Text(2020-01-23 00:00:00, 780.7788401086841, 'Per Capita COVID-19 Cases by Country')"
            ]
          },
          "metadata": {
            "tags": []
          },
          "execution_count": 83
        },
        {
          "output_type": "display_data",
          "data": {
            "image/png": "[encoded data removed]",
            "text/plain": [
              "<Figure size 864x576 with 1 Axes>"
            ]
          },
          "metadata": {
            "tags": []
          }
        }
      ]
    },
    {
      "cell_type": "code",
      "metadata": {
        "id": "xCakQG4vTTKu",
        "colab_type": "code",
        "colab": {
          "base_uri": "https://localhost:8080/",
          "height": 121
        },
        "outputId": "3748fa8d-01be-4ffa-cfdf-4d604da47d82"
      },
      "source": [
        "!pip install moviepy"
      ],
      "execution_count": 86,
      "outputs": [
        {
          "output_type": "stream",
          "text": [
            "Requirement already satisfied: moviepy in /usr/local/lib/python3.6/dist-packages (0.2.3.5)\n",
            "Requirement already satisfied: tqdm<5.0,>=4.11.2 in /usr/local/lib/python3.6/dist-packages (from moviepy) (4.41.1)\n",
            "Requirement already satisfied: imageio<3.0,>=2.1.2 in /usr/local/lib/python3.6/dist-packages (from moviepy) (2.4.1)\n",
            "Requirement already satisfied: numpy in /usr/local/lib/python3.6/dist-packages (from moviepy) (1.18.4)\n",
            "Requirement already satisfied: decorator<5.0,>=4.0.2 in /usr/local/lib/python3.6/dist-packages (from moviepy) (4.4.2)\n",
            "Requirement already satisfied: pillow in /usr/local/lib/python3.6/dist-packages (from imageio<3.0,>=2.1.2->moviepy) (7.0.0)\n"
          ],
          "name": "stdout"
        }
      ]
    },
    {
      "cell_type": "code",
      "metadata": {
        "id": "AxkhojJIcKR9",
        "colab_type": "code",
        "colab": {
          "base_uri": "https://localhost:8080/",
          "height": 173
        },
        "outputId": "182de4da-57ed-4980-b61e-ef8d6a7d2c7e"
      },
      "source": [
        "!pip install glob3"
      ],
      "execution_count": 87,
      "outputs": [
        {
          "output_type": "stream",
          "text": [
            "Collecting glob3\n",
            "  Downloading https://files.pythonhosted.org/packages/d6/21/e042ea7bcb917bac5cf2365d532d44efc23650be81456546a6e89e25371e/glob3-0.0.1.tar.gz\n",
            "Building wheels for collected packages: glob3\n",
            "  Building wheel for glob3 (setup.py) ... \u001b[?25l\u001b[?25hdone\n",
            "  Created wheel for glob3: filename=glob3-0.0.1-cp36-none-any.whl size=1678 sha256=cb111d0d7751a28c4afa9c100f1380d9636db04e93215fe8cf8f0817da4e7545\n",
            "  Stored in directory: /root/.cache/pip/wheels/5c/db/36/aae4683ac0ba95eb154510b48d6bda87fbaac71b6a9b62123d\n",
            "Successfully built glob3\n",
            "Installing collected packages: glob3\n",
            "Successfully installed glob3-0.0.1\n"
          ],
          "name": "stdout"
        }
      ]
    },
    {
      "cell_type": "code",
      "metadata": {
        "id": "N9crlCRscNXm",
        "colab_type": "code",
        "colab": {}
      },
      "source": [
        "import glob\n",
        "import moviepy.editor as mpy\n",
        "from datetime import datetime\n",
        "from datetime import timedelta\n",
        "\n",
        "# Section 2 - Loading Data into Dataframes\n",
        "df = pd.read_csv('https://raw.githubusercontent.com/nytimes/covid-19-data/master/us-states.csv', parse_dates=['date'])\n",
        "populations = pd.read_csv('http://www2.census.gov/programs-surveys/popest/datasets/2010-2019/national/totals/nst-est2019-alldata.csv?#', usecols=['NAME', 'POPESTIMATE2019'])\n",
        "\n",
        "# Section 3 - Merging in Population Data & Calculating Rates\n",
        "df = pd.merge(df, populations, how = 'left', left_on = 'state', right_on = 'NAME')\n",
        "df['rate'] = df['cases'] / df['POPESTIMATE2019'] * 100000"
      ],
      "execution_count": 0,
      "outputs": []
    },
    {
      "cell_type": "code",
      "metadata": {
        "id": "tw1J6S-9m-gw",
        "colab_type": "code",
        "colab": {
          "base_uri": "https://localhost:8080/",
          "height": 139
        },
        "outputId": "d7d42837-5c55-4d99-d4fd-9901763c7fe8"
      },
      "source": [
        "topfivestates_rate"
      ],
      "execution_count": 120,
      "outputs": [
        {
          "output_type": "execute_result",
          "data": {
            "text/plain": [
              "['New York',\n",
              " 'New Jersey',\n",
              " 'Massachusetts',\n",
              " 'Rhode Island',\n",
              " 'District of Columbia',\n",
              " 'California',\n",
              " 'Washington']"
            ]
          },
          "metadata": {
            "tags": []
          },
          "execution_count": 120
        }
      ]
    },
    {
      "cell_type": "code",
      "metadata": {
        "id": "Iv2MOjMXcvcP",
        "colab_type": "code",
        "colab": {}
      },
      "source": [
        "# Section 4 - Identifying States\n",
        "df_today = df[df['date'] == datetime.strftime(datetime.now() - timedelta(1), '%Y-%m-%d')]\n",
        "topfivestates_rate = list(df_today.sort_values(by='rate', ascending=False).head()['state'])\n",
        "topfivestates_rate.append('California')\n",
        "topfivestates_rate.append('Washington')\n",
        "\n",
        "# Section 5 - Filtering our Dataset\n",
        "df = df[df['state'].isin(topfivestates_rate)]\n",
        "df = df[df['date'] >= '2020-03-01']\n",
        "df = df.pivot(index = 'date', columns = 'state', values = 'rate')\n",
        "\n",
        "# Section 6 - Preparing out Dataset for Graphing\n",
        "df = df.reset_index()\n",
        "df = df.reset_index(drop=True)\n",
        "df = df.drop(columns = 'date')"
      ],
      "execution_count": 0,
      "outputs": []
    },
    {
      "cell_type": "code",
      "metadata": {
        "id": "bHFYTFnwmxu_",
        "colab_type": "code",
        "colab": {
          "base_uri": "https://localhost:8080/",
          "height": 202
        },
        "outputId": "15e7efd5-a8d3-498c-fca7-21332bd5436f"
      },
      "source": [
        "df.head()"
      ],
      "execution_count": 118,
      "outputs": [
        {
          "output_type": "execute_result",
          "data": {
            "text/html": [
              "<div>\n",
              "<style scoped>\n",
              "    .dataframe tbody tr th:only-of-type {\n",
              "        vertical-align: middle;\n",
              "    }\n",
              "\n",
              "    .dataframe tbody tr th {\n",
              "        vertical-align: top;\n",
              "    }\n",
              "\n",
              "    .dataframe thead th {\n",
              "        text-align: right;\n",
              "    }\n",
              "</style>\n",
              "<table border=\"1\" class=\"dataframe\">\n",
              "  <thead>\n",
              "    <tr style=\"text-align: right;\">\n",
              "      <th>state</th>\n",
              "      <th>California</th>\n",
              "      <th>District of Columbia</th>\n",
              "      <th>Massachusetts</th>\n",
              "      <th>New Jersey</th>\n",
              "      <th>New York</th>\n",
              "      <th>Rhode Island</th>\n",
              "      <th>Washington</th>\n",
              "    </tr>\n",
              "  </thead>\n",
              "  <tbody>\n",
              "    <tr>\n",
              "      <th>0</th>\n",
              "      <td>0.083518</td>\n",
              "      <td>NaN</td>\n",
              "      <td>0.014509</td>\n",
              "      <td>NaN</td>\n",
              "      <td>0.005140</td>\n",
              "      <td>0.188793</td>\n",
              "      <td>0.223247</td>\n",
              "    </tr>\n",
              "    <tr>\n",
              "      <th>1</th>\n",
              "      <td>0.096173</td>\n",
              "      <td>NaN</td>\n",
              "      <td>0.029017</td>\n",
              "      <td>NaN</td>\n",
              "      <td>0.005140</td>\n",
              "      <td>0.188793</td>\n",
              "      <td>0.302040</td>\n",
              "    </tr>\n",
              "    <tr>\n",
              "      <th>2</th>\n",
              "      <td>0.113889</td>\n",
              "      <td>NaN</td>\n",
              "      <td>0.029017</td>\n",
              "      <td>NaN</td>\n",
              "      <td>0.010281</td>\n",
              "      <td>0.188793</td>\n",
              "      <td>0.420229</td>\n",
              "    </tr>\n",
              "    <tr>\n",
              "      <th>3</th>\n",
              "      <td>0.139197</td>\n",
              "      <td>NaN</td>\n",
              "      <td>0.029017</td>\n",
              "      <td>0.011258</td>\n",
              "      <td>0.056545</td>\n",
              "      <td>0.188793</td>\n",
              "      <td>0.617212</td>\n",
              "    </tr>\n",
              "    <tr>\n",
              "      <th>4</th>\n",
              "      <td>0.169568</td>\n",
              "      <td>NaN</td>\n",
              "      <td>0.043526</td>\n",
              "      <td>0.022517</td>\n",
              "      <td>0.113090</td>\n",
              "      <td>0.188793</td>\n",
              "      <td>0.984912</td>\n",
              "    </tr>\n",
              "  </tbody>\n",
              "</table>\n",
              "</div>"
            ],
            "text/plain": [
              "state  California  District of Columbia  Massachusetts  New Jersey  New York  Rhode Island  Washington\n",
              "0        0.083518                   NaN       0.014509         NaN  0.005140      0.188793    0.223247\n",
              "1        0.096173                   NaN       0.029017         NaN  0.005140      0.188793    0.302040\n",
              "2        0.113889                   NaN       0.029017         NaN  0.010281      0.188793    0.420229\n",
              "3        0.139197                   NaN       0.029017    0.011258  0.056545      0.188793    0.617212\n",
              "4        0.169568                   NaN       0.043526    0.022517  0.113090      0.188793    0.984912"
            ]
          },
          "metadata": {
            "tags": []
          },
          "execution_count": 118
        }
      ]
    },
    {
      "cell_type": "code",
      "metadata": {
        "id": "tg1ZZc5Cnaj-",
        "colab_type": "code",
        "colab": {
          "base_uri": "https://localhost:8080/",
          "height": 355
        },
        "outputId": "2d92bb13-f766-4032-9dc2-1beaf3b6f608"
      },
      "source": [
        "df.iloc[:10]"
      ],
      "execution_count": 129,
      "outputs": [
        {
          "output_type": "execute_result",
          "data": {
            "text/html": [
              "<div>\n",
              "<style scoped>\n",
              "    .dataframe tbody tr th:only-of-type {\n",
              "        vertical-align: middle;\n",
              "    }\n",
              "\n",
              "    .dataframe tbody tr th {\n",
              "        vertical-align: top;\n",
              "    }\n",
              "\n",
              "    .dataframe thead th {\n",
              "        text-align: right;\n",
              "    }\n",
              "</style>\n",
              "<table border=\"1\" class=\"dataframe\">\n",
              "  <thead>\n",
              "    <tr style=\"text-align: right;\">\n",
              "      <th>state</th>\n",
              "      <th>California</th>\n",
              "      <th>District of Columbia</th>\n",
              "      <th>Massachusetts</th>\n",
              "      <th>New Jersey</th>\n",
              "      <th>New York</th>\n",
              "      <th>Rhode Island</th>\n",
              "      <th>Washington</th>\n",
              "    </tr>\n",
              "  </thead>\n",
              "  <tbody>\n",
              "    <tr>\n",
              "      <th>0</th>\n",
              "      <td>0.083518</td>\n",
              "      <td>NaN</td>\n",
              "      <td>0.014509</td>\n",
              "      <td>NaN</td>\n",
              "      <td>0.005140</td>\n",
              "      <td>0.188793</td>\n",
              "      <td>0.223247</td>\n",
              "    </tr>\n",
              "    <tr>\n",
              "      <th>1</th>\n",
              "      <td>0.096173</td>\n",
              "      <td>NaN</td>\n",
              "      <td>0.029017</td>\n",
              "      <td>NaN</td>\n",
              "      <td>0.005140</td>\n",
              "      <td>0.188793</td>\n",
              "      <td>0.302040</td>\n",
              "    </tr>\n",
              "    <tr>\n",
              "      <th>2</th>\n",
              "      <td>0.113889</td>\n",
              "      <td>NaN</td>\n",
              "      <td>0.029017</td>\n",
              "      <td>NaN</td>\n",
              "      <td>0.010281</td>\n",
              "      <td>0.188793</td>\n",
              "      <td>0.420229</td>\n",
              "    </tr>\n",
              "    <tr>\n",
              "      <th>3</th>\n",
              "      <td>0.139197</td>\n",
              "      <td>NaN</td>\n",
              "      <td>0.029017</td>\n",
              "      <td>0.011258</td>\n",
              "      <td>0.056545</td>\n",
              "      <td>0.188793</td>\n",
              "      <td>0.617212</td>\n",
              "    </tr>\n",
              "    <tr>\n",
              "      <th>4</th>\n",
              "      <td>0.169568</td>\n",
              "      <td>NaN</td>\n",
              "      <td>0.043526</td>\n",
              "      <td>0.022517</td>\n",
              "      <td>0.113090</td>\n",
              "      <td>0.188793</td>\n",
              "      <td>0.984912</td>\n",
              "    </tr>\n",
              "    <tr>\n",
              "      <th>5</th>\n",
              "      <td>0.205000</td>\n",
              "      <td>NaN</td>\n",
              "      <td>0.116068</td>\n",
              "      <td>0.045034</td>\n",
              "      <td>0.226180</td>\n",
              "      <td>0.283190</td>\n",
              "      <td>1.129366</td>\n",
              "    </tr>\n",
              "    <tr>\n",
              "      <th>6</th>\n",
              "      <td>0.253086</td>\n",
              "      <td>0.141693</td>\n",
              "      <td>0.188611</td>\n",
              "      <td>0.045034</td>\n",
              "      <td>0.457500</td>\n",
              "      <td>0.283190</td>\n",
              "      <td>1.444538</td>\n",
              "    </tr>\n",
              "    <tr>\n",
              "      <th>7</th>\n",
              "      <td>0.283457</td>\n",
              "      <td>0.141693</td>\n",
              "      <td>0.406238</td>\n",
              "      <td>0.067551</td>\n",
              "      <td>0.544887</td>\n",
              "      <td>0.283190</td>\n",
              "      <td>1.851635</td>\n",
              "    </tr>\n",
              "    <tr>\n",
              "      <th>8</th>\n",
              "      <td>0.435308</td>\n",
              "      <td>0.566774</td>\n",
              "      <td>0.594849</td>\n",
              "      <td>0.123843</td>\n",
              "      <td>0.729943</td>\n",
              "      <td>0.283190</td>\n",
              "      <td>2.350657</td>\n",
              "    </tr>\n",
              "    <tr>\n",
              "      <th>9</th>\n",
              "      <td>0.453024</td>\n",
              "      <td>0.566774</td>\n",
              "      <td>1.334784</td>\n",
              "      <td>0.168877</td>\n",
              "      <td>0.889297</td>\n",
              "      <td>0.471983</td>\n",
              "      <td>3.663873</td>\n",
              "    </tr>\n",
              "  </tbody>\n",
              "</table>\n",
              "</div>"
            ],
            "text/plain": [
              "state  California  District of Columbia  Massachusetts  New Jersey  New York  Rhode Island  Washington\n",
              "0        0.083518                   NaN       0.014509         NaN  0.005140      0.188793    0.223247\n",
              "1        0.096173                   NaN       0.029017         NaN  0.005140      0.188793    0.302040\n",
              "2        0.113889                   NaN       0.029017         NaN  0.010281      0.188793    0.420229\n",
              "3        0.139197                   NaN       0.029017    0.011258  0.056545      0.188793    0.617212\n",
              "4        0.169568                   NaN       0.043526    0.022517  0.113090      0.188793    0.984912\n",
              "5        0.205000                   NaN       0.116068    0.045034  0.226180      0.283190    1.129366\n",
              "6        0.253086              0.141693       0.188611    0.045034  0.457500      0.283190    1.444538\n",
              "7        0.283457              0.141693       0.406238    0.067551  0.544887      0.283190    1.851635\n",
              "8        0.435308              0.566774       0.594849    0.123843  0.729943      0.283190    2.350657\n",
              "9        0.453024              0.566774       1.334784    0.168877  0.889297      0.471983    3.663873"
            ]
          },
          "metadata": {
            "tags": []
          },
          "execution_count": 129
        }
      ]
    },
    {
      "cell_type": "code",
      "metadata": {
        "id": "fHgndXeac0dQ",
        "colab_type": "code",
        "colab": {}
      },
      "source": [
        "# Section 7 - Graphing our Data\n",
        "plt.style.use('fivethirtyeight')\n",
        "length = len(df.index)\n",
        "for i in range(10,length+10):\n",
        "    ax = df.iloc[:i].plot(figsize=(12,8), linewidth=5, color = ['#173F5F', '#20639B', '#2CAEA3', '#F6D55C', '#ED553B', '#B88BAC', '#827498'])\n",
        "    ax.set_ylim(0, 1000)\n",
        "    ax.set_xlabel('Days since March 1, 2020')\n",
        "    ax.set_ylabel('# of Cases per 100,000 People')\n",
        "    ax.set_title(\"Cases per 100,000 People\", fontsize = 18)\n",
        "    ax.legend(loc='upper left', frameon=False)\n",
        "    ax.grid(axis='x')\n",
        "    fig = ax.get_figure()\n",
        "    fig.savefig(drive_path + f\"/IMG/{i}.png\")"
      ],
      "execution_count": 0,
      "outputs": []
    },
    {
      "cell_type": "code",
      "metadata": {
        "id": "mrJI2NrAdd7h",
        "colab_type": "code",
        "colab": {
          "base_uri": "https://localhost:8080/",
          "height": 69
        },
        "outputId": "4c218b75-815b-41ce-e082-f00f6ccadfac"
      },
      "source": [
        "# Section 8 - Generating our GIF\n",
        "gif_name = drive_path + \"IMG/\" + 'COVID'\n",
        "fps = 6\n",
        "file_list = glob.glob(drive_path + '/IMG/*')\n",
        "clip = mpy.ImageSequenceClip(file_list, fps=fps)\n",
        "clip.write_gif('{}.gif'.format(gif_name), fps=fps)"
      ],
      "execution_count": 106,
      "outputs": [
        {
          "output_type": "stream",
          "text": [
            "\n",
            "[MoviePy] Building file drive/My Drive/Colab Notebooks/Git Hub Repo/Fun Projects/COVID19/IMG/COVID.gif with imageio\n"
          ],
          "name": "stdout"
        },
        {
          "output_type": "stream",
          "text": [
            "100%|██████████| 98/98 [00:07<00:00, 13.57it/s]\n"
          ],
          "name": "stderr"
        }
      ]
    },
    {
      "cell_type": "code",
      "metadata": {
        "id": "iY5-v3u6iiOl",
        "colab_type": "code",
        "colab": {
          "base_uri": "https://localhost:8080/",
          "height": 35
        },
        "outputId": "2d3fdb71-6f5a-4cd7-e60b-7c5ac92388c2"
      },
      "source": [
        "drive_path + \"/IMG/\" + gif_name"
      ],
      "execution_count": 104,
      "outputs": [
        {
          "output_type": "execute_result",
          "data": {
            "text/plain": [
              "'drive/My Drive/Colab Notebooks/Git Hub Repo/Fun Projects/COVID19//IMG/COVID.gif'"
            ]
          },
          "metadata": {
            "tags": []
          },
          "execution_count": 104
        }
      ]
    },
    {
      "cell_type": "markdown",
      "metadata": {
        "id": "jMB3VJDomBad",
        "colab_type": "text"
      },
      "source": [
        "# <img src=\"drive/My Drive/Colab Notebooks/Git Hub Repo/Fun Projects/COVID19//IMG/COVID.gif\" width=\"750\" align=\"center\">"
      ]
    },
    {
      "cell_type": "code",
      "metadata": {
        "id": "cZDmQiWDjIra",
        "colab_type": "code",
        "outputId": "e871ef00-68f5-4637-ea81-558ae6f156c8",
        "colab": {
          "base_uri": "https://localhost:8080/",
          "height": 389
        }
      },
      "source": [
        ""
      ],
      "execution_count": 0,
      "outputs": [
        {
          "output_type": "execute_result",
          "data": {
            "text/plain": [
              "<matplotlib.image.AxesImage at 0x7f9cfa6bd9e8>"
            ]
          },
          "metadata": {
            "tags": []
          },
          "execution_count": 117
        },
        {
          "output_type": "display_data",
          "data": {
            "image/png": "[encoded data removed]",
            "text/plain": [
              "<Figure size 576x396 with 1 Axes>"
            ]
          },
          "metadata": {
            "tags": []
          }
        }
      ]
    },
    {
      "cell_type": "code",
      "metadata": {
        "id": "ng76v7R_kjLY",
        "colab_type": "code",
        "colab": {}
      },
      "source": [
        ""
      ],
      "execution_count": 0,
      "outputs": []
    },
    {
      "cell_type": "markdown",
      "metadata": {
        "id": "0ja3khqakkoJ",
        "colab_type": "text"
      },
      "source": [
        ""
      ]
    },
    {
      "cell_type": "code",
      "metadata": {
        "id": "tYNyRZGPknF8",
        "colab_type": "code",
        "colab": {}
      },
      "source": [
        ""
      ],
      "execution_count": 0,
      "outputs": []
    }
  ]
}